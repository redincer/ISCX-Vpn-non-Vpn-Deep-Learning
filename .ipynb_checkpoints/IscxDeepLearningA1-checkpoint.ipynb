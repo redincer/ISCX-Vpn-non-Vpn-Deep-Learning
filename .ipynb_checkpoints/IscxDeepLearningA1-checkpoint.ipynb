{
 "cells": [
  {
   "cell_type": "code",
   "execution_count": 1,
   "metadata": {},
   "outputs": [],
   "source": [
    "from scipy.io.arff import loadarff\n",
    "import numpy as np\n",
    "import pandas as pd\n",
    "from sklearn.model_selection import train_test_split\n",
    "from sklearn.ensemble import RandomForestClassifier\n",
    "from sklearn.metrics import precision_recall_fscore_support\n",
    "from sklearn.metrics import precision_score\n",
    "from sklearn.preprocessing import LabelEncoder\n",
    "from sklearn.metrics import (roc_curve, auc, accuracy_score,roc_auc_score)\n",
    "from sklearn.preprocessing import StandardScaler"
   ]
  },
  {
   "cell_type": "code",
   "execution_count": 2,
   "metadata": {},
   "outputs": [],
   "source": [
    "fp= 'TimeBasedFeatures-Dataset-15s-VPN.arff'\n",
    "raw_data = loadarff(fp)"
   ]
  },
  {
   "cell_type": "code",
   "execution_count": 3,
   "metadata": {},
   "outputs": [
    {
     "data": {
      "text/html": [
       "<div>\n",
       "<style scoped>\n",
       "    .dataframe tbody tr th:only-of-type {\n",
       "        vertical-align: middle;\n",
       "    }\n",
       "\n",
       "    .dataframe tbody tr th {\n",
       "        vertical-align: top;\n",
       "    }\n",
       "\n",
       "    .dataframe thead th {\n",
       "        text-align: right;\n",
       "    }\n",
       "</style>\n",
       "<table border=\"1\" class=\"dataframe\">\n",
       "  <thead>\n",
       "    <tr style=\"text-align: right;\">\n",
       "      <th></th>\n",
       "      <th>duration</th>\n",
       "      <th>total_fiat</th>\n",
       "      <th>total_biat</th>\n",
       "      <th>min_fiat</th>\n",
       "      <th>min_biat</th>\n",
       "      <th>max_fiat</th>\n",
       "      <th>max_biat</th>\n",
       "      <th>mean_fiat</th>\n",
       "      <th>mean_biat</th>\n",
       "      <th>flowPktsPerSecond</th>\n",
       "      <th>...</th>\n",
       "      <th>std_flowiat</th>\n",
       "      <th>min_active</th>\n",
       "      <th>mean_active</th>\n",
       "      <th>max_active</th>\n",
       "      <th>std_active</th>\n",
       "      <th>min_idle</th>\n",
       "      <th>mean_idle</th>\n",
       "      <th>max_idle</th>\n",
       "      <th>std_idle</th>\n",
       "      <th>class1</th>\n",
       "    </tr>\n",
       "  </thead>\n",
       "  <tbody>\n",
       "    <tr>\n",
       "      <th>0</th>\n",
       "      <td>9368711.0</td>\n",
       "      <td>16.0</td>\n",
       "      <td>4.0</td>\n",
       "      <td>1564818.0</td>\n",
       "      <td>1549373.0</td>\n",
       "      <td>190205.285714</td>\n",
       "      <td>203290.456522</td>\n",
       "      <td>389822.391917</td>\n",
       "      <td>370323.719754</td>\n",
       "      <td>10.353612</td>\n",
       "      <td>...</td>\n",
       "      <td>267600.198443</td>\n",
       "      <td>1871488.0</td>\n",
       "      <td>1.983656e+06</td>\n",
       "      <td>2195089.0</td>\n",
       "      <td>1.832197e+05</td>\n",
       "      <td>1234883.0</td>\n",
       "      <td>1420565.0</td>\n",
       "      <td>1523088.0</td>\n",
       "      <td>161096.539275</td>\n",
       "      <td>b'Non-VPN'</td>\n",
       "    </tr>\n",
       "    <tr>\n",
       "      <th>1</th>\n",
       "      <td>7340238.0</td>\n",
       "      <td>18.0</td>\n",
       "      <td>4.0</td>\n",
       "      <td>1567554.0</td>\n",
       "      <td>1527893.0</td>\n",
       "      <td>165686.977273</td>\n",
       "      <td>186914.846154</td>\n",
       "      <td>317267.548742</td>\n",
       "      <td>304370.651301</td>\n",
       "      <td>11.580006</td>\n",
       "      <td>...</td>\n",
       "      <td>221462.862028</td>\n",
       "      <td>1491627.0</td>\n",
       "      <td>3.572433e+06</td>\n",
       "      <td>5653239.0</td>\n",
       "      <td>2.942704e+06</td>\n",
       "      <td>1131498.0</td>\n",
       "      <td>1324636.0</td>\n",
       "      <td>1517774.0</td>\n",
       "      <td>273138.379008</td>\n",
       "      <td>b'Non-VPN'</td>\n",
       "    </tr>\n",
       "    <tr>\n",
       "      <th>2</th>\n",
       "      <td>4644225.0</td>\n",
       "      <td>29.0</td>\n",
       "      <td>15.0</td>\n",
       "      <td>1270547.0</td>\n",
       "      <td>1079974.0</td>\n",
       "      <td>165865.178571</td>\n",
       "      <td>195302.130435</td>\n",
       "      <td>329473.126261</td>\n",
       "      <td>300492.588227</td>\n",
       "      <td>11.412022</td>\n",
       "      <td>...</td>\n",
       "      <td>217475.425246</td>\n",
       "      <td>1758922.0</td>\n",
       "      <td>1.758922e+06</td>\n",
       "      <td>1758922.0</td>\n",
       "      <td>0.000000e+00</td>\n",
       "      <td>1079974.0</td>\n",
       "      <td>1079974.0</td>\n",
       "      <td>1079974.0</td>\n",
       "      <td>0.000000</td>\n",
       "      <td>b'Non-VPN'</td>\n",
       "    </tr>\n",
       "    <tr>\n",
       "      <th>3</th>\n",
       "      <td>4978735.0</td>\n",
       "      <td>19.0</td>\n",
       "      <td>8.0</td>\n",
       "      <td>2492050.0</td>\n",
       "      <td>2457286.0</td>\n",
       "      <td>239543.250000</td>\n",
       "      <td>276596.388889</td>\n",
       "      <td>612435.304238</td>\n",
       "      <td>628339.573544</td>\n",
       "      <td>8.034169</td>\n",
       "      <td>...</td>\n",
       "      <td>436959.716436</td>\n",
       "      <td>1710925.0</td>\n",
       "      <td>2.382905e+06</td>\n",
       "      <td>3054885.0</td>\n",
       "      <td>9.503232e+05</td>\n",
       "      <td>1346073.0</td>\n",
       "      <td>1894031.5</td>\n",
       "      <td>2441990.0</td>\n",
       "      <td>774930.342317</td>\n",
       "      <td>b'Non-VPN'</td>\n",
       "    </tr>\n",
       "    <tr>\n",
       "      <th>4</th>\n",
       "      <td>11838189.0</td>\n",
       "      <td>19.0</td>\n",
       "      <td>10.0</td>\n",
       "      <td>3094089.0</td>\n",
       "      <td>3093543.0</td>\n",
       "      <td>243766.500000</td>\n",
       "      <td>295954.725000</td>\n",
       "      <td>599721.781709</td>\n",
       "      <td>625632.703972</td>\n",
       "      <td>7.602514</td>\n",
       "      <td>...</td>\n",
       "      <td>436129.639296</td>\n",
       "      <td>1747431.0</td>\n",
       "      <td>2.400446e+06</td>\n",
       "      <td>3240696.0</td>\n",
       "      <td>6.232744e+05</td>\n",
       "      <td>1394455.0</td>\n",
       "      <td>1983227.0</td>\n",
       "      <td>3042717.0</td>\n",
       "      <td>725987.829075</td>\n",
       "      <td>b'Non-VPN'</td>\n",
       "    </tr>\n",
       "    <tr>\n",
       "      <th>...</th>\n",
       "      <td>...</td>\n",
       "      <td>...</td>\n",
       "      <td>...</td>\n",
       "      <td>...</td>\n",
       "      <td>...</td>\n",
       "      <td>...</td>\n",
       "      <td>...</td>\n",
       "      <td>...</td>\n",
       "      <td>...</td>\n",
       "      <td>...</td>\n",
       "      <td>...</td>\n",
       "      <td>...</td>\n",
       "      <td>...</td>\n",
       "      <td>...</td>\n",
       "      <td>...</td>\n",
       "      <td>...</td>\n",
       "      <td>...</td>\n",
       "      <td>...</td>\n",
       "      <td>...</td>\n",
       "      <td>...</td>\n",
       "      <td>...</td>\n",
       "    </tr>\n",
       "    <tr>\n",
       "      <th>18753</th>\n",
       "      <td>73240.0</td>\n",
       "      <td>-1.0</td>\n",
       "      <td>-1.0</td>\n",
       "      <td>-1.0</td>\n",
       "      <td>-1.0</td>\n",
       "      <td>0.000000</td>\n",
       "      <td>0.000000</td>\n",
       "      <td>0.000000</td>\n",
       "      <td>0.000000</td>\n",
       "      <td>27.307482</td>\n",
       "      <td>...</td>\n",
       "      <td>0.000000</td>\n",
       "      <td>-1.0</td>\n",
       "      <td>0.000000e+00</td>\n",
       "      <td>-1.0</td>\n",
       "      <td>0.000000e+00</td>\n",
       "      <td>-1.0</td>\n",
       "      <td>0.0</td>\n",
       "      <td>-1.0</td>\n",
       "      <td>0.000000</td>\n",
       "      <td>b'Non-VPN'</td>\n",
       "    </tr>\n",
       "    <tr>\n",
       "      <th>18754</th>\n",
       "      <td>52083.0</td>\n",
       "      <td>-1.0</td>\n",
       "      <td>-1.0</td>\n",
       "      <td>-1.0</td>\n",
       "      <td>-1.0</td>\n",
       "      <td>0.000000</td>\n",
       "      <td>0.000000</td>\n",
       "      <td>0.000000</td>\n",
       "      <td>0.000000</td>\n",
       "      <td>38.400246</td>\n",
       "      <td>...</td>\n",
       "      <td>0.000000</td>\n",
       "      <td>-1.0</td>\n",
       "      <td>0.000000e+00</td>\n",
       "      <td>-1.0</td>\n",
       "      <td>0.000000e+00</td>\n",
       "      <td>-1.0</td>\n",
       "      <td>0.0</td>\n",
       "      <td>-1.0</td>\n",
       "      <td>0.000000</td>\n",
       "      <td>b'Non-VPN'</td>\n",
       "    </tr>\n",
       "    <tr>\n",
       "      <th>18755</th>\n",
       "      <td>67923.0</td>\n",
       "      <td>-1.0</td>\n",
       "      <td>-1.0</td>\n",
       "      <td>-1.0</td>\n",
       "      <td>-1.0</td>\n",
       "      <td>0.000000</td>\n",
       "      <td>0.000000</td>\n",
       "      <td>0.000000</td>\n",
       "      <td>0.000000</td>\n",
       "      <td>29.445107</td>\n",
       "      <td>...</td>\n",
       "      <td>0.000000</td>\n",
       "      <td>-1.0</td>\n",
       "      <td>0.000000e+00</td>\n",
       "      <td>-1.0</td>\n",
       "      <td>0.000000e+00</td>\n",
       "      <td>-1.0</td>\n",
       "      <td>0.0</td>\n",
       "      <td>-1.0</td>\n",
       "      <td>0.000000</td>\n",
       "      <td>b'Non-VPN'</td>\n",
       "    </tr>\n",
       "    <tr>\n",
       "      <th>18756</th>\n",
       "      <td>313588.0</td>\n",
       "      <td>-1.0</td>\n",
       "      <td>-1.0</td>\n",
       "      <td>-1.0</td>\n",
       "      <td>-1.0</td>\n",
       "      <td>0.000000</td>\n",
       "      <td>0.000000</td>\n",
       "      <td>0.000000</td>\n",
       "      <td>0.000000</td>\n",
       "      <td>6.377795</td>\n",
       "      <td>...</td>\n",
       "      <td>0.000000</td>\n",
       "      <td>-1.0</td>\n",
       "      <td>0.000000e+00</td>\n",
       "      <td>-1.0</td>\n",
       "      <td>0.000000e+00</td>\n",
       "      <td>-1.0</td>\n",
       "      <td>0.0</td>\n",
       "      <td>-1.0</td>\n",
       "      <td>0.000000</td>\n",
       "      <td>b'Non-VPN'</td>\n",
       "    </tr>\n",
       "    <tr>\n",
       "      <th>18757</th>\n",
       "      <td>76386.0</td>\n",
       "      <td>-1.0</td>\n",
       "      <td>-1.0</td>\n",
       "      <td>-1.0</td>\n",
       "      <td>-1.0</td>\n",
       "      <td>0.000000</td>\n",
       "      <td>0.000000</td>\n",
       "      <td>0.000000</td>\n",
       "      <td>0.000000</td>\n",
       "      <td>26.182808</td>\n",
       "      <td>...</td>\n",
       "      <td>0.000000</td>\n",
       "      <td>-1.0</td>\n",
       "      <td>0.000000e+00</td>\n",
       "      <td>-1.0</td>\n",
       "      <td>0.000000e+00</td>\n",
       "      <td>-1.0</td>\n",
       "      <td>0.0</td>\n",
       "      <td>-1.0</td>\n",
       "      <td>0.000000</td>\n",
       "      <td>b'Non-VPN'</td>\n",
       "    </tr>\n",
       "  </tbody>\n",
       "</table>\n",
       "<p>18758 rows × 24 columns</p>\n",
       "</div>"
      ],
      "text/plain": [
       "         duration  total_fiat  total_biat   min_fiat   min_biat  \\\n",
       "0       9368711.0        16.0         4.0  1564818.0  1549373.0   \n",
       "1       7340238.0        18.0         4.0  1567554.0  1527893.0   \n",
       "2       4644225.0        29.0        15.0  1270547.0  1079974.0   \n",
       "3       4978735.0        19.0         8.0  2492050.0  2457286.0   \n",
       "4      11838189.0        19.0        10.0  3094089.0  3093543.0   \n",
       "...           ...         ...         ...        ...        ...   \n",
       "18753     73240.0        -1.0        -1.0       -1.0       -1.0   \n",
       "18754     52083.0        -1.0        -1.0       -1.0       -1.0   \n",
       "18755     67923.0        -1.0        -1.0       -1.0       -1.0   \n",
       "18756    313588.0        -1.0        -1.0       -1.0       -1.0   \n",
       "18757     76386.0        -1.0        -1.0       -1.0       -1.0   \n",
       "\n",
       "            max_fiat       max_biat      mean_fiat      mean_biat  \\\n",
       "0      190205.285714  203290.456522  389822.391917  370323.719754   \n",
       "1      165686.977273  186914.846154  317267.548742  304370.651301   \n",
       "2      165865.178571  195302.130435  329473.126261  300492.588227   \n",
       "3      239543.250000  276596.388889  612435.304238  628339.573544   \n",
       "4      243766.500000  295954.725000  599721.781709  625632.703972   \n",
       "...              ...            ...            ...            ...   \n",
       "18753       0.000000       0.000000       0.000000       0.000000   \n",
       "18754       0.000000       0.000000       0.000000       0.000000   \n",
       "18755       0.000000       0.000000       0.000000       0.000000   \n",
       "18756       0.000000       0.000000       0.000000       0.000000   \n",
       "18757       0.000000       0.000000       0.000000       0.000000   \n",
       "\n",
       "       flowPktsPerSecond  ...    std_flowiat  min_active   mean_active  \\\n",
       "0              10.353612  ...  267600.198443   1871488.0  1.983656e+06   \n",
       "1              11.580006  ...  221462.862028   1491627.0  3.572433e+06   \n",
       "2              11.412022  ...  217475.425246   1758922.0  1.758922e+06   \n",
       "3               8.034169  ...  436959.716436   1710925.0  2.382905e+06   \n",
       "4               7.602514  ...  436129.639296   1747431.0  2.400446e+06   \n",
       "...                  ...  ...            ...         ...           ...   \n",
       "18753          27.307482  ...       0.000000        -1.0  0.000000e+00   \n",
       "18754          38.400246  ...       0.000000        -1.0  0.000000e+00   \n",
       "18755          29.445107  ...       0.000000        -1.0  0.000000e+00   \n",
       "18756           6.377795  ...       0.000000        -1.0  0.000000e+00   \n",
       "18757          26.182808  ...       0.000000        -1.0  0.000000e+00   \n",
       "\n",
       "       max_active    std_active   min_idle  mean_idle   max_idle  \\\n",
       "0       2195089.0  1.832197e+05  1234883.0  1420565.0  1523088.0   \n",
       "1       5653239.0  2.942704e+06  1131498.0  1324636.0  1517774.0   \n",
       "2       1758922.0  0.000000e+00  1079974.0  1079974.0  1079974.0   \n",
       "3       3054885.0  9.503232e+05  1346073.0  1894031.5  2441990.0   \n",
       "4       3240696.0  6.232744e+05  1394455.0  1983227.0  3042717.0   \n",
       "...           ...           ...        ...        ...        ...   \n",
       "18753        -1.0  0.000000e+00       -1.0        0.0       -1.0   \n",
       "18754        -1.0  0.000000e+00       -1.0        0.0       -1.0   \n",
       "18755        -1.0  0.000000e+00       -1.0        0.0       -1.0   \n",
       "18756        -1.0  0.000000e+00       -1.0        0.0       -1.0   \n",
       "18757        -1.0  0.000000e+00       -1.0        0.0       -1.0   \n",
       "\n",
       "            std_idle      class1  \n",
       "0      161096.539275  b'Non-VPN'  \n",
       "1      273138.379008  b'Non-VPN'  \n",
       "2           0.000000  b'Non-VPN'  \n",
       "3      774930.342317  b'Non-VPN'  \n",
       "4      725987.829075  b'Non-VPN'  \n",
       "...              ...         ...  \n",
       "18753       0.000000  b'Non-VPN'  \n",
       "18754       0.000000  b'Non-VPN'  \n",
       "18755       0.000000  b'Non-VPN'  \n",
       "18756       0.000000  b'Non-VPN'  \n",
       "18757       0.000000  b'Non-VPN'  \n",
       "\n",
       "[18758 rows x 24 columns]"
      ]
     },
     "execution_count": 3,
     "metadata": {},
     "output_type": "execute_result"
    }
   ],
   "source": [
    "df=pd.DataFrame(raw_data[0])\n",
    "df"
   ]
  },
  {
   "cell_type": "code",
   "execution_count": 4,
   "metadata": {},
   "outputs": [],
   "source": [
    "df['class1'] = df['class1'].map(lambda val : 0 if val == b'Non-VPN' else 1)"
   ]
  },
  {
   "cell_type": "code",
   "execution_count": 5,
   "metadata": {},
   "outputs": [
    {
     "name": "stdout",
     "output_type": "stream",
     "text": [
      "For the Dataset:\n",
      " 1    9793\n",
      "0    8965\n",
      "Name: class1, dtype: int64 \n",
      "\n"
     ]
    }
   ],
   "source": [
    "print(\"For the Dataset:\\n\",df['class1'].value_counts(),\"\\n\")"
   ]
  },
  {
   "cell_type": "code",
   "execution_count": 6,
   "metadata": {},
   "outputs": [
    {
     "name": "stdout",
     "output_type": "stream",
     "text": [
      "['duration', 'total_fiat', 'total_biat', 'min_fiat', 'min_biat', 'max_fiat', 'max_biat', 'mean_fiat', 'mean_biat', 'flowPktsPerSecond', 'flowBytesPerSecond', 'min_flowiat', 'max_flowiat', 'mean_flowiat', 'std_flowiat', 'min_active', 'mean_active', 'max_active', 'std_active', 'min_idle', 'mean_idle', 'max_idle', 'std_idle', 'class1']\n"
     ]
    }
   ],
   "source": [
    "print(list(df.columns))"
   ]
  },
  {
   "cell_type": "code",
   "execution_count": 7,
   "metadata": {},
   "outputs": [],
   "source": [
    "le=LabelEncoder()\n",
    "df['duration']=le.fit_transform(df.duration)\n",
    "df['total_fiat']=le.fit_transform(df.total_fiat)\n",
    "df['total_biat']=le.fit_transform(df.total_biat)\n",
    "df['min_fiat']=le.fit_transform(df.min_fiat)\n",
    "df['max_fiat']=le.fit_transform(df.max_fiat)\n",
    "df['max_biat']=le.fit_transform(df.max_biat)\n",
    "df['mean_fiat']=le.fit_transform(df.mean_fiat)\n",
    "df['mean_biat']=le.fit_transform(df.mean_biat)\n",
    "df['flowPktsPerSecond']=le.fit_transform(df.flowPktsPerSecond)\n",
    "df['flowBytesPerSecond']=le.fit_transform(df.flowBytesPerSecond)\n",
    "df['min_flowiat']=le.fit_transform(df.min_flowiat)\n",
    "df['max_flowiat']=le.fit_transform(df.max_flowiat)\n",
    "df['mean_flowiat']=le.fit_transform(df.mean_flowiat)\n",
    "df['std_flowiat']=le.fit_transform(df.std_flowiat)\n",
    "df['min_active']=le.fit_transform(df.min_active)\n",
    "df['mean_active']=le.fit_transform(df.mean_active)\n",
    "df['max_active']=le.fit_transform(df.max_active)\n",
    "df['std_active']=le.fit_transform(df.std_active)\n",
    "df['min_idle']=le.fit_transform(df.min_idle)\n",
    "df['mean_idle']=le.fit_transform(df.mean_idle)\n",
    "df['max_idle']=le.fit_transform(df.max_idle)\n",
    "df['std_idle']=le.fit_transform(df.std_idle)"
   ]
  },
  {
   "cell_type": "code",
   "execution_count": 8,
   "metadata": {},
   "outputs": [],
   "source": [
    "X=df.drop(columns=[\"class1\"])\n",
    "y=df[\"class1\"]\n",
    "X_train,X_test,y_train,y_test=train_test_split(X,y,test_size=0.2,random_state=42)\n",
    "sc=StandardScaler()\n",
    "X_train=sc.fit_transform(X_train)\n",
    "X_test=sc.fit_transform(X_test)"
   ]
  },
  {
   "cell_type": "code",
   "execution_count": 9,
   "metadata": {},
   "outputs": [],
   "source": [
    "from keras.models import Sequential\n",
    "from keras.layers import Dense\n",
    "from keras.models import Sequential\n",
    "from keras.metrics import BinaryAccuracy, Precision, Recall\n",
    "from tensorflow.keras.utils import to_categorical\n",
    "import matplotlib.pyplot as plt\n",
    "import seaborn as sns\n",
    "from sklearn.metrics import accuracy_score\n",
    "from sklearn.metrics import (confusion_matrix, accuracy_score, classification_report)"
   ]
  },
  {
   "cell_type": "code",
   "execution_count": 10,
   "metadata": {},
   "outputs": [
    {
     "name": "stdout",
     "output_type": "stream",
     "text": [
      "Type:  <class 'numpy.ndarray'>\n",
      "Type:  <class 'pandas.core.series.Series'>\n",
      "X train shape:  (15006, 23)\n",
      "Y train shape:  (15006,)\n",
      "Y train values:  [0 1]\n",
      "Y test values:  [0 1]\n"
     ]
    }
   ],
   "source": [
    "print(\"Type: \", type(X_train))\n",
    "print(\"Type: \", type(y_train))\n",
    "print(\"X train shape: \",X_train.shape)\n",
    "print(\"Y train shape: \",y_train.shape)\n",
    "print(\"Y train values: \",np.unique(y_train))\n",
    "print(\"Y test values: \",np.unique(y_test))"
   ]
  },
  {
   "cell_type": "code",
   "execution_count": 11,
   "metadata": {},
   "outputs": [],
   "source": [
    "metrics = [BinaryAccuracy() , Precision(), Recall(), ]\n",
    "model = Sequential()\n",
    "model.add(Dense(32,input_dim=23,activation=\"relu\"))\n",
    "model.add(Dense(32, activation='relu'))\n",
    "model.add(Dense(16, activation='relu'))\n",
    "model.add(Dense(1, activation='sigmoid'))\n",
    "model.compile(optimizer='adam', loss='binary_crossentropy', metrics=metrics)"
   ]
  },
  {
   "cell_type": "code",
   "execution_count": 12,
   "metadata": {},
   "outputs": [
    {
     "name": "stdout",
     "output_type": "stream",
     "text": [
      "23\n"
     ]
    }
   ],
   "source": [
    "print(len(X_train[0]))"
   ]
  },
  {
   "cell_type": "code",
   "execution_count": 13,
   "metadata": {},
   "outputs": [
    {
     "name": "stdout",
     "output_type": "stream",
     "text": [
      "Model: \"sequential\"\n",
      "_________________________________________________________________\n",
      " Layer (type)                Output Shape              Param #   \n",
      "=================================================================\n",
      " dense (Dense)               (None, 32)                768       \n",
      "                                                                 \n",
      " dense_1 (Dense)             (None, 32)                1056      \n",
      "                                                                 \n",
      " dense_2 (Dense)             (None, 16)                528       \n",
      "                                                                 \n",
      " dense_3 (Dense)             (None, 1)                 17        \n",
      "                                                                 \n",
      "=================================================================\n",
      "Total params: 2,369\n",
      "Trainable params: 2,369\n",
      "Non-trainable params: 0\n",
      "_________________________________________________________________\n"
     ]
    }
   ],
   "source": [
    "X_train = np.array(X_train)\n",
    "model.summary()"
   ]
  },
  {
   "cell_type": "code",
   "execution_count": 14,
   "metadata": {},
   "outputs": [
    {
     "name": "stdout",
     "output_type": "stream",
     "text": [
      "Epoch 1/100\n",
      "469/469 [==============================] - 1s 874us/step - loss: 0.6119 - binary_accuracy: 0.6633 - precision: 0.6648 - recall: 0.7121\n",
      "Epoch 2/100\n",
      "469/469 [==============================] - 0s 826us/step - loss: 0.5374 - binary_accuracy: 0.7194 - precision: 0.7418 - recall: 0.7068\n",
      "Epoch 3/100\n",
      "469/469 [==============================] - 0s 835us/step - loss: 0.5044 - binary_accuracy: 0.7404 - precision: 0.7574 - recall: 0.7371\n",
      "Epoch 4/100\n",
      "469/469 [==============================] - 0s 846us/step - loss: 0.4791 - binary_accuracy: 0.7553 - precision: 0.7673 - recall: 0.7604\n",
      "Epoch 5/100\n",
      "469/469 [==============================] - 0s 831us/step - loss: 0.4574 - binary_accuracy: 0.7709 - precision: 0.7795 - recall: 0.7805\n",
      "Epoch 6/100\n",
      "469/469 [==============================] - 0s 839us/step - loss: 0.4411 - binary_accuracy: 0.7808 - precision: 0.7913 - recall: 0.7860\n",
      "Epoch 7/100\n",
      "469/469 [==============================] - 0s 790us/step - loss: 0.4305 - binary_accuracy: 0.7850 - precision: 0.7913 - recall: 0.7971\n",
      "Epoch 8/100\n",
      "469/469 [==============================] - 0s 885us/step - loss: 0.4224 - binary_accuracy: 0.7894 - precision: 0.7964 - recall: 0.7998\n",
      "Epoch 9/100\n",
      "469/469 [==============================] - 0s 825us/step - loss: 0.4135 - binary_accuracy: 0.7953 - precision: 0.8003 - recall: 0.8084\n",
      "Epoch 10/100\n",
      "469/469 [==============================] - 0s 818us/step - loss: 0.4076 - binary_accuracy: 0.7988 - precision: 0.8033 - recall: 0.8122\n",
      "Epoch 11/100\n",
      "469/469 [==============================] - 0s 809us/step - loss: 0.4026 - binary_accuracy: 0.8005 - precision: 0.8049 - recall: 0.8140\n",
      "Epoch 12/100\n",
      "469/469 [==============================] - 0s 829us/step - loss: 0.3967 - binary_accuracy: 0.8011 - precision: 0.8054 - recall: 0.8147\n",
      "Epoch 13/100\n",
      "469/469 [==============================] - 0s 869us/step - loss: 0.3903 - binary_accuracy: 0.8098 - precision: 0.8133 - recall: 0.8235\n",
      "Epoch 14/100\n",
      "469/469 [==============================] - 0s 872us/step - loss: 0.3893 - binary_accuracy: 0.8053 - precision: 0.8064 - recall: 0.8236\n",
      "Epoch 15/100\n",
      "469/469 [==============================] - 0s 870us/step - loss: 0.3873 - binary_accuracy: 0.8085 - precision: 0.8089 - recall: 0.8276\n",
      "Epoch 16/100\n",
      "469/469 [==============================] - 0s 873us/step - loss: 0.3803 - binary_accuracy: 0.8104 - precision: 0.8116 - recall: 0.8279\n",
      "Epoch 17/100\n",
      "469/469 [==============================] - 0s 880us/step - loss: 0.3791 - binary_accuracy: 0.8083 - precision: 0.8108 - recall: 0.8238\n",
      "Epoch 18/100\n",
      "469/469 [==============================] - 0s 880us/step - loss: 0.3740 - binary_accuracy: 0.8138 - precision: 0.8146 - recall: 0.8315\n",
      "Epoch 19/100\n",
      "469/469 [==============================] - 0s 862us/step - loss: 0.3722 - binary_accuracy: 0.8177 - precision: 0.8179 - recall: 0.8358\n",
      "Epoch 20/100\n",
      "469/469 [==============================] - 0s 879us/step - loss: 0.3688 - binary_accuracy: 0.8191 - precision: 0.8201 - recall: 0.8356\n",
      "Epoch 21/100\n",
      "469/469 [==============================] - 0s 836us/step - loss: 0.3675 - binary_accuracy: 0.8185 - precision: 0.8177 - recall: 0.8379\n",
      "Epoch 22/100\n",
      "469/469 [==============================] - 0s 837us/step - loss: 0.3638 - binary_accuracy: 0.8217 - precision: 0.8198 - recall: 0.8425\n",
      "Epoch 23/100\n",
      "469/469 [==============================] - 0s 813us/step - loss: 0.3621 - binary_accuracy: 0.8190 - precision: 0.8194 - recall: 0.8364\n",
      "Epoch 24/100\n",
      "469/469 [==============================] - 0s 840us/step - loss: 0.3595 - binary_accuracy: 0.8234 - precision: 0.8217 - recall: 0.8438\n",
      "Epoch 25/100\n",
      "469/469 [==============================] - 0s 863us/step - loss: 0.3580 - binary_accuracy: 0.8244 - precision: 0.8244 - recall: 0.8418\n",
      "Epoch 26/100\n",
      "469/469 [==============================] - 0s 895us/step - loss: 0.3517 - binary_accuracy: 0.8298 - precision: 0.8273 - recall: 0.8504\n",
      "Epoch 27/100\n",
      "469/469 [==============================] - 0s 866us/step - loss: 0.3517 - binary_accuracy: 0.8293 - precision: 0.8287 - recall: 0.8471\n",
      "Epoch 28/100\n",
      "469/469 [==============================] - 0s 857us/step - loss: 0.3504 - binary_accuracy: 0.8276 - precision: 0.8238 - recall: 0.8507\n",
      "Epoch 29/100\n",
      "469/469 [==============================] - 0s 872us/step - loss: 0.3477 - binary_accuracy: 0.8319 - precision: 0.8283 - recall: 0.8539\n",
      "Epoch 30/100\n",
      "469/469 [==============================] - 0s 892us/step - loss: 0.3453 - binary_accuracy: 0.8298 - precision: 0.8264 - recall: 0.8518\n",
      "Epoch 31/100\n",
      "469/469 [==============================] - 0s 885us/step - loss: 0.3422 - binary_accuracy: 0.8347 - precision: 0.8324 - recall: 0.8543\n",
      "Epoch 32/100\n",
      "469/469 [==============================] - 0s 901us/step - loss: 0.3440 - binary_accuracy: 0.8325 - precision: 0.8289 - recall: 0.8544\n",
      "Epoch 33/100\n",
      "469/469 [==============================] - 0s 827us/step - loss: 0.3412 - binary_accuracy: 0.8383 - precision: 0.8334 - recall: 0.8614\n",
      "Epoch 34/100\n",
      "469/469 [==============================] - 0s 835us/step - loss: 0.3431 - binary_accuracy: 0.8324 - precision: 0.8286 - recall: 0.8548\n",
      "Epoch 35/100\n",
      "469/469 [==============================] - 0s 840us/step - loss: 0.3375 - binary_accuracy: 0.8349 - precision: 0.8316 - recall: 0.8562\n",
      "Epoch 36/100\n",
      "469/469 [==============================] - 0s 850us/step - loss: 0.3351 - binary_accuracy: 0.8393 - precision: 0.8334 - recall: 0.8637\n",
      "Epoch 37/100\n",
      "469/469 [==============================] - 0s 847us/step - loss: 0.3335 - binary_accuracy: 0.8366 - precision: 0.8325 - recall: 0.8587\n",
      "Epoch 38/100\n",
      "469/469 [==============================] - 0s 848us/step - loss: 0.3349 - binary_accuracy: 0.8378 - precision: 0.8345 - recall: 0.8586\n",
      "Epoch 39/100\n",
      "469/469 [==============================] - 0s 867us/step - loss: 0.3305 - binary_accuracy: 0.8395 - precision: 0.8336 - recall: 0.8640\n",
      "Epoch 40/100\n",
      "469/469 [==============================] - 0s 862us/step - loss: 0.3305 - binary_accuracy: 0.8425 - precision: 0.8397 - recall: 0.8617\n",
      "Epoch 41/100\n",
      "469/469 [==============================] - 0s 861us/step - loss: 0.3303 - binary_accuracy: 0.8422 - precision: 0.8381 - recall: 0.8636\n",
      "Epoch 42/100\n",
      "469/469 [==============================] - 0s 818us/step - loss: 0.3278 - binary_accuracy: 0.8419 - precision: 0.8411 - recall: 0.8582\n",
      "Epoch 43/100\n",
      "469/469 [==============================] - 0s 833us/step - loss: 0.3287 - binary_accuracy: 0.8424 - precision: 0.8380 - recall: 0.8641\n",
      "Epoch 44/100\n",
      "469/469 [==============================] - 0s 893us/step - loss: 0.3271 - binary_accuracy: 0.8425 - precision: 0.8386 - recall: 0.8636\n",
      "Epoch 45/100\n",
      "469/469 [==============================] - 1s 1ms/step - loss: 0.3246 - binary_accuracy: 0.8437 - precision: 0.8398 - recall: 0.8646\n",
      "Epoch 46/100\n",
      "469/469 [==============================] - 0s 1ms/step - loss: 0.3199 - binary_accuracy: 0.8479 - precision: 0.8441 - recall: 0.8680\n",
      "Epoch 47/100\n",
      "469/469 [==============================] - 0s 1ms/step - loss: 0.3230 - binary_accuracy: 0.8460 - precision: 0.8419 - recall: 0.8668\n",
      "Epoch 48/100\n",
      "469/469 [==============================] - 0s 1ms/step - loss: 0.3206 - binary_accuracy: 0.8468 - precision: 0.8428 - recall: 0.8673\n",
      "Epoch 49/100\n",
      "469/469 [==============================] - 0s 1ms/step - loss: 0.3212 - binary_accuracy: 0.8473 - precision: 0.8427 - recall: 0.8686\n",
      "Epoch 50/100\n",
      "469/469 [==============================] - 0s 987us/step - loss: 0.3194 - binary_accuracy: 0.8459 - precision: 0.8427 - recall: 0.8653\n",
      "Epoch 51/100\n",
      "469/469 [==============================] - 0s 989us/step - loss: 0.3162 - binary_accuracy: 0.8484 - precision: 0.8419 - recall: 0.8724\n",
      "Epoch 52/100\n",
      "469/469 [==============================] - 0s 1ms/step - loss: 0.3157 - binary_accuracy: 0.8487 - precision: 0.8439 - recall: 0.8703\n",
      "Epoch 53/100\n",
      "469/469 [==============================] - 0s 1ms/step - loss: 0.3153 - binary_accuracy: 0.8523 - precision: 0.8480 - recall: 0.8724\n",
      "Epoch 54/100\n",
      "469/469 [==============================] - 1s 1ms/step - loss: 0.3122 - binary_accuracy: 0.8509 - precision: 0.8473 - recall: 0.8704\n",
      "Epoch 55/100\n",
      "469/469 [==============================] - 1s 1ms/step - loss: 0.3108 - binary_accuracy: 0.8521 - precision: 0.8486 - recall: 0.8712\n",
      "Epoch 56/100\n"
     ]
    },
    {
     "name": "stdout",
     "output_type": "stream",
     "text": [
      "469/469 [==============================] - 0s 1ms/step - loss: 0.3098 - binary_accuracy: 0.8522 - precision: 0.8485 - recall: 0.8715\n",
      "Epoch 57/100\n",
      "469/469 [==============================] - 0s 1ms/step - loss: 0.3115 - binary_accuracy: 0.8501 - precision: 0.8470 - recall: 0.8687\n",
      "Epoch 58/100\n",
      "469/469 [==============================] - 0s 1ms/step - loss: 0.3092 - binary_accuracy: 0.8526 - precision: 0.8493 - recall: 0.8713\n",
      "Epoch 59/100\n",
      "469/469 [==============================] - 0s 1ms/step - loss: 0.3082 - binary_accuracy: 0.8541 - precision: 0.8511 - recall: 0.8721\n",
      "Epoch 60/100\n",
      "469/469 [==============================] - 0s 1ms/step - loss: 0.3094 - binary_accuracy: 0.8527 - precision: 0.8496 - recall: 0.8710\n",
      "Epoch 61/100\n",
      "469/469 [==============================] - 1s 1ms/step - loss: 0.3064 - binary_accuracy: 0.8539 - precision: 0.8514 - recall: 0.8713\n",
      "Epoch 62/100\n",
      "469/469 [==============================] - 0s 1ms/step - loss: 0.3084 - binary_accuracy: 0.8541 - precision: 0.8494 - recall: 0.8746\n",
      "Epoch 63/100\n",
      "469/469 [==============================] - 0s 1ms/step - loss: 0.3059 - binary_accuracy: 0.8543 - precision: 0.8527 - recall: 0.8704\n",
      "Epoch 64/100\n",
      "469/469 [==============================] - 0s 1ms/step - loss: 0.3024 - binary_accuracy: 0.8575 - precision: 0.8537 - recall: 0.8762\n",
      "Epoch 65/100\n",
      "469/469 [==============================] - 1s 1ms/step - loss: 0.3017 - binary_accuracy: 0.8579 - precision: 0.8538 - recall: 0.8769\n",
      "Epoch 66/100\n",
      "469/469 [==============================] - 0s 1ms/step - loss: 0.3026 - binary_accuracy: 0.8556 - precision: 0.8528 - recall: 0.8732\n",
      "Epoch 67/100\n",
      "469/469 [==============================] - 0s 1ms/step - loss: 0.3028 - binary_accuracy: 0.8564 - precision: 0.8523 - recall: 0.8758\n",
      "Epoch 68/100\n",
      "469/469 [==============================] - 0s 1ms/step - loss: 0.2980 - binary_accuracy: 0.8614 - precision: 0.8576 - recall: 0.8796\n",
      "Epoch 69/100\n",
      "469/469 [==============================] - 0s 993us/step - loss: 0.3005 - binary_accuracy: 0.8577 - precision: 0.8540 - recall: 0.8763\n",
      "Epoch 70/100\n",
      "469/469 [==============================] - 0s 1ms/step - loss: 0.2975 - binary_accuracy: 0.8599 - precision: 0.8567 - recall: 0.8774\n",
      "Epoch 71/100\n",
      "469/469 [==============================] - 0s 995us/step - loss: 0.2965 - binary_accuracy: 0.8621 - precision: 0.8588 - recall: 0.8795\n",
      "Epoch 72/100\n",
      "469/469 [==============================] - 0s 1ms/step - loss: 0.2955 - binary_accuracy: 0.8605 - precision: 0.8568 - recall: 0.8787\n",
      "Epoch 73/100\n",
      "469/469 [==============================] - 0s 1ms/step - loss: 0.2988 - binary_accuracy: 0.8605 - precision: 0.8570 - recall: 0.8783\n",
      "Epoch 74/100\n",
      "469/469 [==============================] - 0s 995us/step - loss: 0.2944 - binary_accuracy: 0.8627 - precision: 0.8603 - recall: 0.8788\n",
      "Epoch 75/100\n",
      "469/469 [==============================] - 0s 1ms/step - loss: 0.2945 - binary_accuracy: 0.8609 - precision: 0.8565 - recall: 0.8801\n",
      "Epoch 76/100\n",
      "469/469 [==============================] - 0s 1ms/step - loss: 0.2937 - binary_accuracy: 0.8589 - precision: 0.8578 - recall: 0.8736\n",
      "Epoch 77/100\n",
      "469/469 [==============================] - 1s 1ms/step - loss: 0.2918 - binary_accuracy: 0.8609 - precision: 0.8587 - recall: 0.8769\n",
      "Epoch 78/100\n",
      "469/469 [==============================] - 0s 1ms/step - loss: 0.2926 - binary_accuracy: 0.8627 - precision: 0.8603 - recall: 0.8788\n",
      "Epoch 79/100\n",
      "469/469 [==============================] - 0s 1ms/step - loss: 0.2914 - binary_accuracy: 0.8620 - precision: 0.8598 - recall: 0.8779\n",
      "Epoch 80/100\n",
      "469/469 [==============================] - 0s 992us/step - loss: 0.2889 - binary_accuracy: 0.8646 - precision: 0.8598 - recall: 0.8838\n",
      "Epoch 81/100\n",
      "469/469 [==============================] - 0s 1ms/step - loss: 0.2890 - binary_accuracy: 0.8641 - precision: 0.8615 - recall: 0.8804\n",
      "Epoch 82/100\n",
      "469/469 [==============================] - 0s 996us/step - loss: 0.2882 - binary_accuracy: 0.8651 - precision: 0.8616 - recall: 0.8824\n",
      "Epoch 83/100\n",
      "469/469 [==============================] - 0s 1000us/step - loss: 0.2895 - binary_accuracy: 0.8642 - precision: 0.8604 - recall: 0.8822\n",
      "Epoch 84/100\n",
      "469/469 [==============================] - 0s 999us/step - loss: 0.2854 - binary_accuracy: 0.8683 - precision: 0.8631 - recall: 0.8877\n",
      "Epoch 85/100\n",
      "469/469 [==============================] - 0s 1ms/step - loss: 0.2865 - binary_accuracy: 0.8645 - precision: 0.8605 - recall: 0.8827\n",
      "Epoch 86/100\n",
      "469/469 [==============================] - 1s 1ms/step - loss: 0.2827 - binary_accuracy: 0.8669 - precision: 0.8633 - recall: 0.8841\n",
      "Epoch 87/100\n",
      "469/469 [==============================] - 0s 1ms/step - loss: 0.2893 - binary_accuracy: 0.8638 - precision: 0.8626 - recall: 0.8781\n",
      "Epoch 88/100\n",
      "469/469 [==============================] - 1s 1ms/step - loss: 0.2874 - binary_accuracy: 0.8647 - precision: 0.8626 - recall: 0.8800\n",
      "Epoch 89/100\n",
      "469/469 [==============================] - 0s 1ms/step - loss: 0.2844 - binary_accuracy: 0.8655 - precision: 0.8613 - recall: 0.8837\n",
      "Epoch 90/100\n",
      "469/469 [==============================] - 0s 1ms/step - loss: 0.2846 - binary_accuracy: 0.8676 - precision: 0.8636 - recall: 0.8854\n",
      "Epoch 91/100\n",
      "469/469 [==============================] - 0s 1ms/step - loss: 0.2803 - binary_accuracy: 0.8694 - precision: 0.8641 - recall: 0.8887\n",
      "Epoch 92/100\n",
      "469/469 [==============================] - 0s 1ms/step - loss: 0.2819 - binary_accuracy: 0.8687 - precision: 0.8655 - recall: 0.8852\n",
      "Epoch 93/100\n",
      "469/469 [==============================] - 0s 1ms/step - loss: 0.2842 - binary_accuracy: 0.8657 - precision: 0.8615 - recall: 0.8838\n",
      "Epoch 94/100\n",
      "469/469 [==============================] - 0s 1ms/step - loss: 0.2812 - binary_accuracy: 0.8691 - precision: 0.8645 - recall: 0.8874\n",
      "Epoch 95/100\n",
      "469/469 [==============================] - 0s 1ms/step - loss: 0.2798 - binary_accuracy: 0.8685 - precision: 0.8642 - recall: 0.8865\n",
      "Epoch 96/100\n",
      "469/469 [==============================] - 1s 1ms/step - loss: 0.2811 - binary_accuracy: 0.8672 - precision: 0.8666 - recall: 0.8803\n",
      "Epoch 97/100\n",
      "469/469 [==============================] - 1s 1ms/step - loss: 0.2802 - binary_accuracy: 0.8700 - precision: 0.8649 - recall: 0.8890\n",
      "Epoch 98/100\n",
      "469/469 [==============================] - 1s 1ms/step - loss: 0.2760 - binary_accuracy: 0.8707 - precision: 0.8679 - recall: 0.8865\n",
      "Epoch 99/100\n",
      "469/469 [==============================] - 0s 1ms/step - loss: 0.2768 - binary_accuracy: 0.8717 - precision: 0.8670 - recall: 0.8900\n",
      "Epoch 100/100\n",
      "469/469 [==============================] - 0s 1ms/step - loss: 0.2760 - binary_accuracy: 0.8716 - precision: 0.8685 - recall: 0.8876\n"
     ]
    },
    {
     "data": {
      "text/plain": [
       "<keras.callbacks.History at 0x2121e9adfa0>"
      ]
     },
     "execution_count": 14,
     "metadata": {},
     "output_type": "execute_result"
    }
   ],
   "source": [
    "model.fit(X_train,np.array(y_train),epochs =100)"
   ]
  },
  {
   "cell_type": "code",
   "execution_count": 15,
   "metadata": {},
   "outputs": [],
   "source": [
    "y_pred=model.predict(X_test)"
   ]
  },
  {
   "cell_type": "code",
   "execution_count": 16,
   "metadata": {},
   "outputs": [
    {
     "name": "stdout",
     "output_type": "stream",
     "text": [
      "Accuracy: 0.8425\n"
     ]
    }
   ],
   "source": [
    "print(\"Accuracy: {:<0.4f}\".format(accuracy_score(y_test,y_pred.round())))"
   ]
  },
  {
   "cell_type": "code",
   "execution_count": 17,
   "metadata": {},
   "outputs": [],
   "source": [
    "def plot_confusion_matrix(y_test, pred, model_name):\n",
    "    cm = confusion_matrix(y_test, pred)\n",
    "    cm_df = pd.DataFrame(cm,index = [\"VPN\", \"NOT-VPN\"], columns = [\"VPN\",\"NOT-VPN\"])\n",
    "    plt.figure(figsize=(5,5))\n",
    "    sns.heatmap(cm_df, annot = True, fmt='g', annot_kws={\"size\": 10})\n",
    "    plt.title(model_name+'\\nAccuracy:{0:.4f}'.format(accuracy_score(y_test,pred)))\n",
    "    plt.ylabel('True Label', fontsize=1)\n",
    "    plt.show()"
   ]
  },
  {
   "cell_type": "code",
   "execution_count": 18,
   "metadata": {},
   "outputs": [
    {
     "data": {
      "image/png": "[encoded data removed]",
      "text/plain": [
       "<Figure size 360x360 with 2 Axes>"
      ]
     },
     "metadata": {
      "needs_background": "light"
     },
     "output_type": "display_data"
    }
   ],
   "source": [
    "plot_confusion_matrix(y_test, y_pred.round(), \"VPN Analiz\")"
   ]
  },
  {
   "cell_type": "code",
   "execution_count": 19,
   "metadata": {},
   "outputs": [
    {
     "name": "stderr",
     "output_type": "stream",
     "text": [
      "[Parallel(n_jobs=1)]: Using backend SequentialBackend with 1 concurrent workers.\n",
      "[Parallel(n_jobs=1)]: Done 500 out of 500 | elapsed:    9.3s finished\n",
      "[Parallel(n_jobs=1)]: Using backend SequentialBackend with 1 concurrent workers.\n",
      "[Parallel(n_jobs=1)]: Done 500 out of 500 | elapsed:    0.1s finished\n"
     ]
    },
    {
     "name": "stdout",
     "output_type": "stream",
     "text": [
      "[0.0489163  0.06299861 0.1173156  0.04590017 0.03479003 0.06239902\n",
      " 0.0674771  0.03725958 0.04281186 0.07102307 0.07363042 0.07824337\n",
      " 0.0748964  0.0589801  0.05917141 0.00835222 0.00851719 0.00847846\n",
      " 0.00242522 0.0115265  0.01113968 0.01094367 0.00280399]\n"
     ]
    }
   ],
   "source": [
    "clf = RandomForestClassifier(n_estimators=500, max_depth=10,random_state=0,verbose=1)\n",
    "clf.fit(X_train,y_train)\n",
    "rf_preds = clf.predict(X_test)\n",
    "print(clf.feature_importances_)"
   ]
  },
  {
   "cell_type": "code",
   "execution_count": 20,
   "metadata": {},
   "outputs": [
    {
     "name": "stdout",
     "output_type": "stream",
     "text": [
      "Accuracy: 0.8905\n"
     ]
    }
   ],
   "source": [
    "print(\"Accuracy: {:<0.4f}\".format(accuracy_score(y_test,rf_preds.round())))"
   ]
  },
  {
   "cell_type": "code",
   "execution_count": 21,
   "metadata": {},
   "outputs": [
    {
     "data": {
      "image/png": "[encoded data removed]",
      "text/plain": [
       "<Figure size 360x360 with 2 Axes>"
      ]
     },
     "metadata": {
      "needs_background": "light"
     },
     "output_type": "display_data"
    }
   ],
   "source": [
    "plot_confusion_matrix(y_test,rf_preds.round(), \"VPN Analiz\")"
   ]
  },
  {
   "cell_type": "code",
   "execution_count": 22,
   "metadata": {},
   "outputs": [
    {
     "name": "stdout",
     "output_type": "stream",
     "text": [
      "              precision    recall  f1-score   support\n",
      "\n",
      "           0       0.93      0.83      0.88      1767\n",
      "           1       0.86      0.94      0.90      1985\n",
      "\n",
      "    accuracy                           0.89      3752\n",
      "   macro avg       0.90      0.89      0.89      3752\n",
      "weighted avg       0.89      0.89      0.89      3752\n",
      "\n"
     ]
    }
   ],
   "source": [
    "print(classification_report(y_test,rf_preds.round()))"
   ]
  },
  {
   "cell_type": "code",
   "execution_count": 23,
   "metadata": {},
   "outputs": [],
   "source": [
    "feature_importance_df = pd.DataFrame()\n",
    "feature_importance_df[\"Features\"] = df.drop(columns = [\"class1\"]).columns\n",
    "feature_importance_df[\"Importance\"] = clf.feature_importances_"
   ]
  },
  {
   "cell_type": "code",
   "execution_count": 24,
   "metadata": {},
   "outputs": [
    {
     "data": {
      "image/png": "[encoded data removed]",
      "text/plain": [
       "<Figure size 720x720 with 1 Axes>"
      ]
     },
     "metadata": {
      "needs_background": "light"
     },
     "output_type": "display_data"
    }
   ],
   "source": [
    "plt.figure(figsize=(10,10))\n",
    "sns.barplot(x=\"Importance\", y=\"Features\", data=feature_importance_df.sort_values(by=\"Importance\",ascending=False))\n",
    "plt.title(\"Feature's Importance\")\n",
    "plt.tight_layout()"
   ]
  },
  {
   "cell_type": "code",
   "execution_count": 25,
   "metadata": {},
   "outputs": [],
   "source": [
    "#End"
   ]
  }
 ],
 "metadata": {
  "kernelspec": {
   "display_name": "Python 3",
   "language": "python",
   "name": "python3"
  },
  "language_info": {
   "codemirror_mode": {
    "name": "ipython",
    "version": 3
   },
   "file_extension": ".py",
   "mimetype": "text/x-python",
   "name": "python",
   "nbconvert_exporter": "python",
   "pygments_lexer": "ipython3",
   "version": "3.8.3"
  }
 },
 "nbformat": 4,
 "nbformat_minor": 4
}
