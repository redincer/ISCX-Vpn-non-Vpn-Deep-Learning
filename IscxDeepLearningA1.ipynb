{
 "cells": [
  {
   "cell_type": "code",
   "execution_count": 1,
   "metadata": {},
   "outputs": [
    {
     "name": "stdout",
     "output_type": "stream",
     "text": [
      "relevant libraries uploaded\n"
     ]
    }
   ],
   "source": [
    "from scipy.io.arff import loadarff\n",
    "import numpy as np\n",
    "import pandas as pd\n",
    "from sklearn.model_selection import train_test_split\n",
    "from sklearn.ensemble import RandomForestClassifier\n",
    "from sklearn.tree import DecisionTreeClassifier\n",
    "from sklearn.metrics import precision_recall_fscore_support\n",
    "from sklearn.metrics import precision_score\n",
    "from sklearn.preprocessing import LabelEncoder\n",
    "from sklearn.preprocessing import OneHotEncoder\n",
    "from sklearn.metrics import (roc_curve, auc, accuracy_score,roc_auc_score)\n",
    "print('relevant libraries uploaded')"
   ]
  },
  {
   "cell_type": "code",
   "execution_count": 3,
   "metadata": {},
   "outputs": [],
   "source": [
    "fp= 'TimeBasedFeatures-Dataset-15s-VPN.arff'\n",
    "raw_data = loadarff(fp)"
   ]
  },
  {
   "cell_type": "code",
   "execution_count": 4,
   "metadata": {},
   "outputs": [
    {
     "data": {
      "text/html": [
       "<div>\n",
       "<style scoped>\n",
       "    .dataframe tbody tr th:only-of-type {\n",
       "        vertical-align: middle;\n",
       "    }\n",
       "\n",
       "    .dataframe tbody tr th {\n",
       "        vertical-align: top;\n",
       "    }\n",
       "\n",
       "    .dataframe thead th {\n",
       "        text-align: right;\n",
       "    }\n",
       "</style>\n",
       "<table border=\"1\" class=\"dataframe\">\n",
       "  <thead>\n",
       "    <tr style=\"text-align: right;\">\n",
       "      <th></th>\n",
       "      <th>duration</th>\n",
       "      <th>total_fiat</th>\n",
       "      <th>total_biat</th>\n",
       "      <th>min_fiat</th>\n",
       "      <th>min_biat</th>\n",
       "      <th>max_fiat</th>\n",
       "      <th>max_biat</th>\n",
       "      <th>mean_fiat</th>\n",
       "      <th>mean_biat</th>\n",
       "      <th>flowPktsPerSecond</th>\n",
       "      <th>...</th>\n",
       "      <th>std_flowiat</th>\n",
       "      <th>min_active</th>\n",
       "      <th>mean_active</th>\n",
       "      <th>max_active</th>\n",
       "      <th>std_active</th>\n",
       "      <th>min_idle</th>\n",
       "      <th>mean_idle</th>\n",
       "      <th>max_idle</th>\n",
       "      <th>std_idle</th>\n",
       "      <th>class1</th>\n",
       "    </tr>\n",
       "  </thead>\n",
       "  <tbody>\n",
       "    <tr>\n",
       "      <th>0</th>\n",
       "      <td>9368711.0</td>\n",
       "      <td>16.0</td>\n",
       "      <td>4.0</td>\n",
       "      <td>1564818.0</td>\n",
       "      <td>1549373.0</td>\n",
       "      <td>190205.285714</td>\n",
       "      <td>203290.456522</td>\n",
       "      <td>389822.391917</td>\n",
       "      <td>370323.719754</td>\n",
       "      <td>10.353612</td>\n",
       "      <td>...</td>\n",
       "      <td>267600.198443</td>\n",
       "      <td>1871488.0</td>\n",
       "      <td>1.983656e+06</td>\n",
       "      <td>2195089.0</td>\n",
       "      <td>1.832197e+05</td>\n",
       "      <td>1234883.0</td>\n",
       "      <td>1420565.0</td>\n",
       "      <td>1523088.0</td>\n",
       "      <td>161096.539275</td>\n",
       "      <td>b'Non-VPN'</td>\n",
       "    </tr>\n",
       "    <tr>\n",
       "      <th>1</th>\n",
       "      <td>7340238.0</td>\n",
       "      <td>18.0</td>\n",
       "      <td>4.0</td>\n",
       "      <td>1567554.0</td>\n",
       "      <td>1527893.0</td>\n",
       "      <td>165686.977273</td>\n",
       "      <td>186914.846154</td>\n",
       "      <td>317267.548742</td>\n",
       "      <td>304370.651301</td>\n",
       "      <td>11.580006</td>\n",
       "      <td>...</td>\n",
       "      <td>221462.862028</td>\n",
       "      <td>1491627.0</td>\n",
       "      <td>3.572433e+06</td>\n",
       "      <td>5653239.0</td>\n",
       "      <td>2.942704e+06</td>\n",
       "      <td>1131498.0</td>\n",
       "      <td>1324636.0</td>\n",
       "      <td>1517774.0</td>\n",
       "      <td>273138.379008</td>\n",
       "      <td>b'Non-VPN'</td>\n",
       "    </tr>\n",
       "    <tr>\n",
       "      <th>2</th>\n",
       "      <td>4644225.0</td>\n",
       "      <td>29.0</td>\n",
       "      <td>15.0</td>\n",
       "      <td>1270547.0</td>\n",
       "      <td>1079974.0</td>\n",
       "      <td>165865.178571</td>\n",
       "      <td>195302.130435</td>\n",
       "      <td>329473.126261</td>\n",
       "      <td>300492.588227</td>\n",
       "      <td>11.412022</td>\n",
       "      <td>...</td>\n",
       "      <td>217475.425246</td>\n",
       "      <td>1758922.0</td>\n",
       "      <td>1.758922e+06</td>\n",
       "      <td>1758922.0</td>\n",
       "      <td>0.000000e+00</td>\n",
       "      <td>1079974.0</td>\n",
       "      <td>1079974.0</td>\n",
       "      <td>1079974.0</td>\n",
       "      <td>0.000000</td>\n",
       "      <td>b'Non-VPN'</td>\n",
       "    </tr>\n",
       "    <tr>\n",
       "      <th>3</th>\n",
       "      <td>4978735.0</td>\n",
       "      <td>19.0</td>\n",
       "      <td>8.0</td>\n",
       "      <td>2492050.0</td>\n",
       "      <td>2457286.0</td>\n",
       "      <td>239543.250000</td>\n",
       "      <td>276596.388889</td>\n",
       "      <td>612435.304238</td>\n",
       "      <td>628339.573544</td>\n",
       "      <td>8.034169</td>\n",
       "      <td>...</td>\n",
       "      <td>436959.716436</td>\n",
       "      <td>1710925.0</td>\n",
       "      <td>2.382905e+06</td>\n",
       "      <td>3054885.0</td>\n",
       "      <td>9.503232e+05</td>\n",
       "      <td>1346073.0</td>\n",
       "      <td>1894031.5</td>\n",
       "      <td>2441990.0</td>\n",
       "      <td>774930.342317</td>\n",
       "      <td>b'Non-VPN'</td>\n",
       "    </tr>\n",
       "    <tr>\n",
       "      <th>4</th>\n",
       "      <td>11838189.0</td>\n",
       "      <td>19.0</td>\n",
       "      <td>10.0</td>\n",
       "      <td>3094089.0</td>\n",
       "      <td>3093543.0</td>\n",
       "      <td>243766.500000</td>\n",
       "      <td>295954.725000</td>\n",
       "      <td>599721.781709</td>\n",
       "      <td>625632.703972</td>\n",
       "      <td>7.602514</td>\n",
       "      <td>...</td>\n",
       "      <td>436129.639296</td>\n",
       "      <td>1747431.0</td>\n",
       "      <td>2.400446e+06</td>\n",
       "      <td>3240696.0</td>\n",
       "      <td>6.232744e+05</td>\n",
       "      <td>1394455.0</td>\n",
       "      <td>1983227.0</td>\n",
       "      <td>3042717.0</td>\n",
       "      <td>725987.829075</td>\n",
       "      <td>b'Non-VPN'</td>\n",
       "    </tr>\n",
       "    <tr>\n",
       "      <th>...</th>\n",
       "      <td>...</td>\n",
       "      <td>...</td>\n",
       "      <td>...</td>\n",
       "      <td>...</td>\n",
       "      <td>...</td>\n",
       "      <td>...</td>\n",
       "      <td>...</td>\n",
       "      <td>...</td>\n",
       "      <td>...</td>\n",
       "      <td>...</td>\n",
       "      <td>...</td>\n",
       "      <td>...</td>\n",
       "      <td>...</td>\n",
       "      <td>...</td>\n",
       "      <td>...</td>\n",
       "      <td>...</td>\n",
       "      <td>...</td>\n",
       "      <td>...</td>\n",
       "      <td>...</td>\n",
       "      <td>...</td>\n",
       "      <td>...</td>\n",
       "    </tr>\n",
       "    <tr>\n",
       "      <th>18753</th>\n",
       "      <td>73240.0</td>\n",
       "      <td>-1.0</td>\n",
       "      <td>-1.0</td>\n",
       "      <td>-1.0</td>\n",
       "      <td>-1.0</td>\n",
       "      <td>0.000000</td>\n",
       "      <td>0.000000</td>\n",
       "      <td>0.000000</td>\n",
       "      <td>0.000000</td>\n",
       "      <td>27.307482</td>\n",
       "      <td>...</td>\n",
       "      <td>0.000000</td>\n",
       "      <td>-1.0</td>\n",
       "      <td>0.000000e+00</td>\n",
       "      <td>-1.0</td>\n",
       "      <td>0.000000e+00</td>\n",
       "      <td>-1.0</td>\n",
       "      <td>0.0</td>\n",
       "      <td>-1.0</td>\n",
       "      <td>0.000000</td>\n",
       "      <td>b'Non-VPN'</td>\n",
       "    </tr>\n",
       "    <tr>\n",
       "      <th>18754</th>\n",
       "      <td>52083.0</td>\n",
       "      <td>-1.0</td>\n",
       "      <td>-1.0</td>\n",
       "      <td>-1.0</td>\n",
       "      <td>-1.0</td>\n",
       "      <td>0.000000</td>\n",
       "      <td>0.000000</td>\n",
       "      <td>0.000000</td>\n",
       "      <td>0.000000</td>\n",
       "      <td>38.400246</td>\n",
       "      <td>...</td>\n",
       "      <td>0.000000</td>\n",
       "      <td>-1.0</td>\n",
       "      <td>0.000000e+00</td>\n",
       "      <td>-1.0</td>\n",
       "      <td>0.000000e+00</td>\n",
       "      <td>-1.0</td>\n",
       "      <td>0.0</td>\n",
       "      <td>-1.0</td>\n",
       "      <td>0.000000</td>\n",
       "      <td>b'Non-VPN'</td>\n",
       "    </tr>\n",
       "    <tr>\n",
       "      <th>18755</th>\n",
       "      <td>67923.0</td>\n",
       "      <td>-1.0</td>\n",
       "      <td>-1.0</td>\n",
       "      <td>-1.0</td>\n",
       "      <td>-1.0</td>\n",
       "      <td>0.000000</td>\n",
       "      <td>0.000000</td>\n",
       "      <td>0.000000</td>\n",
       "      <td>0.000000</td>\n",
       "      <td>29.445107</td>\n",
       "      <td>...</td>\n",
       "      <td>0.000000</td>\n",
       "      <td>-1.0</td>\n",
       "      <td>0.000000e+00</td>\n",
       "      <td>-1.0</td>\n",
       "      <td>0.000000e+00</td>\n",
       "      <td>-1.0</td>\n",
       "      <td>0.0</td>\n",
       "      <td>-1.0</td>\n",
       "      <td>0.000000</td>\n",
       "      <td>b'Non-VPN'</td>\n",
       "    </tr>\n",
       "    <tr>\n",
       "      <th>18756</th>\n",
       "      <td>313588.0</td>\n",
       "      <td>-1.0</td>\n",
       "      <td>-1.0</td>\n",
       "      <td>-1.0</td>\n",
       "      <td>-1.0</td>\n",
       "      <td>0.000000</td>\n",
       "      <td>0.000000</td>\n",
       "      <td>0.000000</td>\n",
       "      <td>0.000000</td>\n",
       "      <td>6.377795</td>\n",
       "      <td>...</td>\n",
       "      <td>0.000000</td>\n",
       "      <td>-1.0</td>\n",
       "      <td>0.000000e+00</td>\n",
       "      <td>-1.0</td>\n",
       "      <td>0.000000e+00</td>\n",
       "      <td>-1.0</td>\n",
       "      <td>0.0</td>\n",
       "      <td>-1.0</td>\n",
       "      <td>0.000000</td>\n",
       "      <td>b'Non-VPN'</td>\n",
       "    </tr>\n",
       "    <tr>\n",
       "      <th>18757</th>\n",
       "      <td>76386.0</td>\n",
       "      <td>-1.0</td>\n",
       "      <td>-1.0</td>\n",
       "      <td>-1.0</td>\n",
       "      <td>-1.0</td>\n",
       "      <td>0.000000</td>\n",
       "      <td>0.000000</td>\n",
       "      <td>0.000000</td>\n",
       "      <td>0.000000</td>\n",
       "      <td>26.182808</td>\n",
       "      <td>...</td>\n",
       "      <td>0.000000</td>\n",
       "      <td>-1.0</td>\n",
       "      <td>0.000000e+00</td>\n",
       "      <td>-1.0</td>\n",
       "      <td>0.000000e+00</td>\n",
       "      <td>-1.0</td>\n",
       "      <td>0.0</td>\n",
       "      <td>-1.0</td>\n",
       "      <td>0.000000</td>\n",
       "      <td>b'Non-VPN'</td>\n",
       "    </tr>\n",
       "  </tbody>\n",
       "</table>\n",
       "<p>18758 rows × 24 columns</p>\n",
       "</div>"
      ],
      "text/plain": [
       "         duration  total_fiat  total_biat   min_fiat   min_biat  \\\n",
       "0       9368711.0        16.0         4.0  1564818.0  1549373.0   \n",
       "1       7340238.0        18.0         4.0  1567554.0  1527893.0   \n",
       "2       4644225.0        29.0        15.0  1270547.0  1079974.0   \n",
       "3       4978735.0        19.0         8.0  2492050.0  2457286.0   \n",
       "4      11838189.0        19.0        10.0  3094089.0  3093543.0   \n",
       "...           ...         ...         ...        ...        ...   \n",
       "18753     73240.0        -1.0        -1.0       -1.0       -1.0   \n",
       "18754     52083.0        -1.0        -1.0       -1.0       -1.0   \n",
       "18755     67923.0        -1.0        -1.0       -1.0       -1.0   \n",
       "18756    313588.0        -1.0        -1.0       -1.0       -1.0   \n",
       "18757     76386.0        -1.0        -1.0       -1.0       -1.0   \n",
       "\n",
       "            max_fiat       max_biat      mean_fiat      mean_biat  \\\n",
       "0      190205.285714  203290.456522  389822.391917  370323.719754   \n",
       "1      165686.977273  186914.846154  317267.548742  304370.651301   \n",
       "2      165865.178571  195302.130435  329473.126261  300492.588227   \n",
       "3      239543.250000  276596.388889  612435.304238  628339.573544   \n",
       "4      243766.500000  295954.725000  599721.781709  625632.703972   \n",
       "...              ...            ...            ...            ...   \n",
       "18753       0.000000       0.000000       0.000000       0.000000   \n",
       "18754       0.000000       0.000000       0.000000       0.000000   \n",
       "18755       0.000000       0.000000       0.000000       0.000000   \n",
       "18756       0.000000       0.000000       0.000000       0.000000   \n",
       "18757       0.000000       0.000000       0.000000       0.000000   \n",
       "\n",
       "       flowPktsPerSecond  ...    std_flowiat  min_active   mean_active  \\\n",
       "0              10.353612  ...  267600.198443   1871488.0  1.983656e+06   \n",
       "1              11.580006  ...  221462.862028   1491627.0  3.572433e+06   \n",
       "2              11.412022  ...  217475.425246   1758922.0  1.758922e+06   \n",
       "3               8.034169  ...  436959.716436   1710925.0  2.382905e+06   \n",
       "4               7.602514  ...  436129.639296   1747431.0  2.400446e+06   \n",
       "...                  ...  ...            ...         ...           ...   \n",
       "18753          27.307482  ...       0.000000        -1.0  0.000000e+00   \n",
       "18754          38.400246  ...       0.000000        -1.0  0.000000e+00   \n",
       "18755          29.445107  ...       0.000000        -1.0  0.000000e+00   \n",
       "18756           6.377795  ...       0.000000        -1.0  0.000000e+00   \n",
       "18757          26.182808  ...       0.000000        -1.0  0.000000e+00   \n",
       "\n",
       "       max_active    std_active   min_idle  mean_idle   max_idle  \\\n",
       "0       2195089.0  1.832197e+05  1234883.0  1420565.0  1523088.0   \n",
       "1       5653239.0  2.942704e+06  1131498.0  1324636.0  1517774.0   \n",
       "2       1758922.0  0.000000e+00  1079974.0  1079974.0  1079974.0   \n",
       "3       3054885.0  9.503232e+05  1346073.0  1894031.5  2441990.0   \n",
       "4       3240696.0  6.232744e+05  1394455.0  1983227.0  3042717.0   \n",
       "...           ...           ...        ...        ...        ...   \n",
       "18753        -1.0  0.000000e+00       -1.0        0.0       -1.0   \n",
       "18754        -1.0  0.000000e+00       -1.0        0.0       -1.0   \n",
       "18755        -1.0  0.000000e+00       -1.0        0.0       -1.0   \n",
       "18756        -1.0  0.000000e+00       -1.0        0.0       -1.0   \n",
       "18757        -1.0  0.000000e+00       -1.0        0.0       -1.0   \n",
       "\n",
       "            std_idle      class1  \n",
       "0      161096.539275  b'Non-VPN'  \n",
       "1      273138.379008  b'Non-VPN'  \n",
       "2           0.000000  b'Non-VPN'  \n",
       "3      774930.342317  b'Non-VPN'  \n",
       "4      725987.829075  b'Non-VPN'  \n",
       "...              ...         ...  \n",
       "18753       0.000000  b'Non-VPN'  \n",
       "18754       0.000000  b'Non-VPN'  \n",
       "18755       0.000000  b'Non-VPN'  \n",
       "18756       0.000000  b'Non-VPN'  \n",
       "18757       0.000000  b'Non-VPN'  \n",
       "\n",
       "[18758 rows x 24 columns]"
      ]
     },
     "execution_count": 4,
     "metadata": {},
     "output_type": "execute_result"
    }
   ],
   "source": [
    "df=pd.DataFrame(raw_data[0])\n",
    "df"
   ]
  },
  {
   "cell_type": "code",
   "execution_count": 5,
   "metadata": {},
   "outputs": [],
   "source": [
    "df['class1'] = df['class1'].map(lambda val : 0 if val == b'Non-VPN' else 1)\n",
    "df1 = df.loc[ df['class1'] == 1]\n",
    "df2 = df.loc[ df['class1'] == 0]"
   ]
  },
  {
   "cell_type": "code",
   "execution_count": 6,
   "metadata": {},
   "outputs": [
    {
     "name": "stdout",
     "output_type": "stream",
     "text": [
      "For the Dataset:\n",
      " 1    9793\n",
      "0    8965\n",
      "Name: class1, dtype: int64 \n",
      "\n"
     ]
    }
   ],
   "source": [
    "print(\"For the Dataset:\\n\",df['class1'].value_counts(),\"\\n\")"
   ]
  },
  {
   "cell_type": "code",
   "execution_count": 7,
   "metadata": {},
   "outputs": [
    {
     "name": "stdout",
     "output_type": "stream",
     "text": [
      "['duration', 'total_fiat', 'total_biat', 'min_fiat', 'min_biat', 'max_fiat', 'max_biat', 'mean_fiat', 'mean_biat', 'flowPktsPerSecond', 'flowBytesPerSecond', 'min_flowiat', 'max_flowiat', 'mean_flowiat', 'std_flowiat', 'min_active', 'mean_active', 'max_active', 'std_active', 'min_idle', 'mean_idle', 'max_idle', 'std_idle', 'class1']\n"
     ]
    }
   ],
   "source": [
    "print(list(df.columns))"
   ]
  },
  {
   "cell_type": "code",
   "execution_count": 8,
   "metadata": {},
   "outputs": [],
   "source": [
    "le=LabelEncoder()\n",
    "df['duration']=le.fit_transform(df.duration)\n",
    "df['total_fiat']=le.fit_transform(df.total_fiat)\n",
    "df['total_biat']=le.fit_transform(df.total_biat)\n",
    "df['min_fiat']=le.fit_transform(df.min_fiat)\n",
    "df['max_fiat']=le.fit_transform(df.max_fiat)\n",
    "df['max_biat']=le.fit_transform(df.max_biat)\n",
    "df['mean_fiat']=le.fit_transform(df.mean_fiat)\n",
    "df['mean_biat']=le.fit_transform(df.mean_biat)\n",
    "df['flowPktsPerSecond']=le.fit_transform(df.flowPktsPerSecond)\n",
    "df['flowBytesPerSecond']=le.fit_transform(df.flowBytesPerSecond)\n",
    "df['min_flowiat']=le.fit_transform(df.min_flowiat)\n",
    "df['max_flowiat']=le.fit_transform(df.max_flowiat)\n",
    "df['mean_flowiat']=le.fit_transform(df.mean_flowiat)\n",
    "df['std_flowiat']=le.fit_transform(df.std_flowiat)\n",
    "df['min_active']=le.fit_transform(df.min_active)\n",
    "df['mean_active']=le.fit_transform(df.mean_active)\n",
    "df['max_active']=le.fit_transform(df.max_active)\n",
    "df['std_active']=le.fit_transform(df.std_active)\n",
    "df['min_idle']=le.fit_transform(df.min_idle)\n",
    "df['mean_idle']=le.fit_transform(df.mean_idle)\n",
    "df['max_idle']=le.fit_transform(df.max_idle)\n",
    "df['std_idle']=le.fit_transform(df.std_idle)"
   ]
  },
  {
   "cell_type": "code",
   "execution_count": 9,
   "metadata": {},
   "outputs": [],
   "source": [
    "X=df.drop(['class1'], axis=1)\n",
    "y=df['class1']"
   ]
  },
  {
   "cell_type": "code",
   "execution_count": 10,
   "metadata": {},
   "outputs": [],
   "source": [
    "from sklearn.preprocessing import StandardScaler"
   ]
  },
  {
   "cell_type": "code",
   "execution_count": 11,
   "metadata": {},
   "outputs": [],
   "source": [
    "X=df.drop(columns=[\"class1\"])\n",
    "y=df[\"class1\"]\n",
    "X_train,X_test,y_train,y_test=train_test_split(X,y,test_size=0.2,random_state=42)\n",
    "sc=StandardScaler()\n",
    "X_train=sc.fit_transform(X_train)\n",
    "X_test=sc.fit_transform(X_test)"
   ]
  },
  {
   "cell_type": "code",
   "execution_count": 12,
   "metadata": {},
   "outputs": [],
   "source": [
    "from keras.models import Sequential\n",
    "from keras.layers import Dense\n",
    "from keras.layers import LSTM\n",
    "from keras.layers import Dropout\n",
    "from keras.layers.embeddings import Embedding\n",
    "from keras.preprocessing import sequence\n",
    "from keras.models import Sequential\n",
    "from keras.layers import Dense\n",
    "from keras.metrics import CategoricalAccuracy, Precision, Recall\n",
    "from tensorflow.keras.utils import to_categorical\n",
    "import tensorflow as tf\n",
    "from keras.layers.convolutional import Conv1D\n",
    "from keras.layers.convolutional import MaxPooling1D\n",
    "import matplotlib.pyplot as plt\n",
    "import seaborn as sns\n",
    "from sklearn.metrics import accuracy_score"
   ]
  },
  {
   "cell_type": "code",
   "execution_count": 13,
   "metadata": {},
   "outputs": [
    {
     "name": "stdout",
     "output_type": "stream",
     "text": [
      "Type:  <class 'numpy.ndarray'>\n",
      "Type:  <class 'pandas.core.series.Series'>\n",
      "X train shape:  (15006, 23)\n",
      "Y train shape:  (15006,)\n",
      "Y train values:  [0 1]\n",
      "Y test values:  [0 1]\n"
     ]
    }
   ],
   "source": [
    "#y_train = to_categorical(y_train, num_classes=1)\n",
    "#y_test = to_categorical(y_test, num_classes=1)\n",
    "X_train=np.array(X_train)\n",
    "print(\"Type: \", type(X_train))\n",
    "print(\"Type: \", type(y_train))\n",
    "print(\"X train shape: \",X_train.shape)\n",
    "print(\"Y train shape: \",y_train.shape)\n",
    "print(\"Y train values: \",np.unique(y_train))\n",
    "print(\"Y test values: \",np.unique(y_test))"
   ]
  },
  {
   "cell_type": "code",
   "execution_count": 14,
   "metadata": {},
   "outputs": [],
   "source": [
    "metrics = [CategoricalAccuracy() , Precision(), Recall(), ]\n",
    "\n",
    "model = Sequential()\n",
    "model.add(Dense(32,input_dim=23,activation=\"relu\"))\n",
    "model.add(Dense(32, activation='relu'))\n",
    "model.add(Dense(16, activation='relu'))\n",
    "model.add(Dense(1, activation='sigmoid'))\n",
    "model.compile(optimizer='adam', loss='binary_crossentropy', metrics=['acc'])"
   ]
  },
  {
   "cell_type": "code",
   "execution_count": 15,
   "metadata": {},
   "outputs": [
    {
     "name": "stdout",
     "output_type": "stream",
     "text": [
      "23\n"
     ]
    }
   ],
   "source": [
    "print(len(X_train[0]))"
   ]
  },
  {
   "cell_type": "code",
   "execution_count": 16,
   "metadata": {},
   "outputs": [
    {
     "name": "stdout",
     "output_type": "stream",
     "text": [
      "Model: \"sequential\"\n",
      "_________________________________________________________________\n",
      " Layer (type)                Output Shape              Param #   \n",
      "=================================================================\n",
      " dense (Dense)               (None, 32)                768       \n",
      "                                                                 \n",
      " dense_1 (Dense)             (None, 32)                1056      \n",
      "                                                                 \n",
      " dense_2 (Dense)             (None, 16)                528       \n",
      "                                                                 \n",
      " dense_3 (Dense)             (None, 1)                 17        \n",
      "                                                                 \n",
      "=================================================================\n",
      "Total params: 2,369\n",
      "Trainable params: 2,369\n",
      "Non-trainable params: 0\n",
      "_________________________________________________________________\n"
     ]
    }
   ],
   "source": [
    "X_train = np.array(X_train)\n",
    "model.summary()"
   ]
  },
  {
   "cell_type": "code",
   "execution_count": 17,
   "metadata": {},
   "outputs": [
    {
     "name": "stdout",
     "output_type": "stream",
     "text": [
      "Epoch 1/300\n",
      "469/469 [==============================] - 1s 816us/step - loss: 0.6150 - acc: 0.6631\n",
      "Epoch 2/300\n",
      "469/469 [==============================] - 0s 759us/step - loss: 0.5373 - acc: 0.7121\n",
      "Epoch 3/300\n",
      "469/469 [==============================] - 0s 723us/step - loss: 0.5015 - acc: 0.7350\n",
      "Epoch 4/300\n",
      "469/469 [==============================] - 0s 760us/step - loss: 0.4804 - acc: 0.7514\n",
      "Epoch 5/300\n",
      "469/469 [==============================] - 0s 726us/step - loss: 0.4659 - acc: 0.7634\n",
      "Epoch 6/300\n",
      "469/469 [==============================] - 0s 716us/step - loss: 0.4509 - acc: 0.7730\n",
      "Epoch 7/300\n",
      "469/469 [==============================] - 0s 767us/step - loss: 0.4408 - acc: 0.7797\n",
      "Epoch 8/300\n",
      "469/469 [==============================] - 0s 742us/step - loss: 0.4309 - acc: 0.7820\n",
      "Epoch 9/300\n",
      "469/469 [==============================] - 0s 764us/step - loss: 0.4233 - acc: 0.7866\n",
      "Epoch 10/300\n",
      "469/469 [==============================] - 0s 729us/step - loss: 0.4152 - acc: 0.7920\n",
      "Epoch 11/300\n",
      "469/469 [==============================] - 0s 725us/step - loss: 0.4092 - acc: 0.7955\n",
      "Epoch 12/300\n",
      "469/469 [==============================] - 0s 713us/step - loss: 0.4047 - acc: 0.7963\n",
      "Epoch 13/300\n",
      "469/469 [==============================] - 0s 736us/step - loss: 0.4002 - acc: 0.7979\n",
      "Epoch 14/300\n",
      "469/469 [==============================] - 0s 705us/step - loss: 0.3973 - acc: 0.7984\n",
      "Epoch 15/300\n",
      "469/469 [==============================] - 0s 742us/step - loss: 0.3918 - acc: 0.8052\n",
      "Epoch 16/300\n",
      "469/469 [==============================] - 0s 740us/step - loss: 0.3876 - acc: 0.8085\n",
      "Epoch 17/300\n",
      "469/469 [==============================] - 0s 752us/step - loss: 0.3850 - acc: 0.8065\n",
      "Epoch 18/300\n",
      "469/469 [==============================] - 0s 764us/step - loss: 0.3814 - acc: 0.8121\n",
      "Epoch 19/300\n",
      "469/469 [==============================] - 0s 722us/step - loss: 0.3739 - acc: 0.8153\n",
      "Epoch 20/300\n",
      "469/469 [==============================] - 0s 722us/step - loss: 0.3737 - acc: 0.8165\n",
      "Epoch 21/300\n",
      "469/469 [==============================] - 0s 762us/step - loss: 0.3701 - acc: 0.8167\n",
      "Epoch 22/300\n",
      "469/469 [==============================] - 0s 766us/step - loss: 0.3688 - acc: 0.8176\n",
      "Epoch 23/300\n",
      "469/469 [==============================] - 0s 719us/step - loss: 0.3646 - acc: 0.8202\n",
      "Epoch 24/300\n",
      "469/469 [==============================] - 0s 742us/step - loss: 0.3633 - acc: 0.8208\n",
      "Epoch 25/300\n",
      "469/469 [==============================] - 0s 759us/step - loss: 0.3599 - acc: 0.8222\n",
      "Epoch 26/300\n",
      "469/469 [==============================] - 0s 727us/step - loss: 0.3567 - acc: 0.8194\n",
      "Epoch 27/300\n",
      "469/469 [==============================] - 0s 732us/step - loss: 0.3527 - acc: 0.8250\n",
      "Epoch 28/300\n",
      "469/469 [==============================] - 0s 699us/step - loss: 0.3532 - acc: 0.8272\n",
      "Epoch 29/300\n",
      "469/469 [==============================] - 0s 735us/step - loss: 0.3486 - acc: 0.8301\n",
      "Epoch 30/300\n",
      "469/469 [==============================] - 0s 722us/step - loss: 0.3460 - acc: 0.8295\n",
      "Epoch 31/300\n",
      "469/469 [==============================] - 0s 716us/step - loss: 0.3458 - acc: 0.8312\n",
      "Epoch 32/300\n",
      "469/469 [==============================] - 0s 769us/step - loss: 0.3444 - acc: 0.8296\n",
      "Epoch 33/300\n",
      "469/469 [==============================] - 0s 741us/step - loss: 0.3454 - acc: 0.8329\n",
      "Epoch 34/300\n",
      "469/469 [==============================] - 0s 746us/step - loss: 0.3425 - acc: 0.8337\n",
      "Epoch 35/300\n",
      "469/469 [==============================] - 0s 771us/step - loss: 0.3398 - acc: 0.8341\n",
      "Epoch 36/300\n",
      "469/469 [==============================] - 0s 747us/step - loss: 0.3377 - acc: 0.8350\n",
      "Epoch 37/300\n",
      "469/469 [==============================] - 0s 770us/step - loss: 0.3358 - acc: 0.8367\n",
      "Epoch 38/300\n",
      "469/469 [==============================] - 0s 747us/step - loss: 0.3370 - acc: 0.8370\n",
      "Epoch 39/300\n",
      "469/469 [==============================] - 0s 744us/step - loss: 0.3363 - acc: 0.8331\n",
      "Epoch 40/300\n",
      "469/469 [==============================] - 0s 708us/step - loss: 0.3320 - acc: 0.8419\n",
      "Epoch 41/300\n",
      "375/469 [======================>.......] - ETA: 0s - loss: 0.3279 - acc: 0.8422"
     ]
    },
    {
     "ename": "KeyboardInterrupt",
     "evalue": "",
     "output_type": "error",
     "traceback": [
      "\u001b[1;31m---------------------------------------------------------------------------\u001b[0m",
      "\u001b[1;31mKeyboardInterrupt\u001b[0m                         Traceback (most recent call last)",
      "\u001b[1;32m<ipython-input-17-28571be4eec0>\u001b[0m in \u001b[0;36m<module>\u001b[1;34m\u001b[0m\n\u001b[1;32m----> 1\u001b[1;33m \u001b[0mmodel\u001b[0m\u001b[1;33m.\u001b[0m\u001b[0mfit\u001b[0m\u001b[1;33m(\u001b[0m\u001b[0mX_train\u001b[0m\u001b[1;33m,\u001b[0m\u001b[0mnp\u001b[0m\u001b[1;33m.\u001b[0m\u001b[0marray\u001b[0m\u001b[1;33m(\u001b[0m\u001b[0my_train\u001b[0m\u001b[1;33m)\u001b[0m\u001b[1;33m,\u001b[0m\u001b[0mepochs\u001b[0m \u001b[1;33m=\u001b[0m\u001b[1;36m300\u001b[0m \u001b[1;33m)\u001b[0m\u001b[1;33m\u001b[0m\u001b[1;33m\u001b[0m\u001b[0m\n\u001b[0m",
      "\u001b[1;32m~\\anaconda3\\lib\\site-packages\\keras\\utils\\traceback_utils.py\u001b[0m in \u001b[0;36merror_handler\u001b[1;34m(*args, **kwargs)\u001b[0m\n\u001b[0;32m     62\u001b[0m     \u001b[0mfiltered_tb\u001b[0m \u001b[1;33m=\u001b[0m \u001b[1;32mNone\u001b[0m\u001b[1;33m\u001b[0m\u001b[1;33m\u001b[0m\u001b[0m\n\u001b[0;32m     63\u001b[0m     \u001b[1;32mtry\u001b[0m\u001b[1;33m:\u001b[0m\u001b[1;33m\u001b[0m\u001b[1;33m\u001b[0m\u001b[0m\n\u001b[1;32m---> 64\u001b[1;33m       \u001b[1;32mreturn\u001b[0m \u001b[0mfn\u001b[0m\u001b[1;33m(\u001b[0m\u001b[1;33m*\u001b[0m\u001b[0margs\u001b[0m\u001b[1;33m,\u001b[0m \u001b[1;33m**\u001b[0m\u001b[0mkwargs\u001b[0m\u001b[1;33m)\u001b[0m\u001b[1;33m\u001b[0m\u001b[1;33m\u001b[0m\u001b[0m\n\u001b[0m\u001b[0;32m     65\u001b[0m     \u001b[1;32mexcept\u001b[0m \u001b[0mException\u001b[0m \u001b[1;32mas\u001b[0m \u001b[0me\u001b[0m\u001b[1;33m:\u001b[0m  \u001b[1;31m# pylint: disable=broad-except\u001b[0m\u001b[1;33m\u001b[0m\u001b[1;33m\u001b[0m\u001b[0m\n\u001b[0;32m     66\u001b[0m       \u001b[0mfiltered_tb\u001b[0m \u001b[1;33m=\u001b[0m \u001b[0m_process_traceback_frames\u001b[0m\u001b[1;33m(\u001b[0m\u001b[0me\u001b[0m\u001b[1;33m.\u001b[0m\u001b[0m__traceback__\u001b[0m\u001b[1;33m)\u001b[0m\u001b[1;33m\u001b[0m\u001b[1;33m\u001b[0m\u001b[0m\n",
      "\u001b[1;32m~\\anaconda3\\lib\\site-packages\\keras\\engine\\training.py\u001b[0m in \u001b[0;36mfit\u001b[1;34m(self, x, y, batch_size, epochs, verbose, callbacks, validation_split, validation_data, shuffle, class_weight, sample_weight, initial_epoch, steps_per_epoch, validation_steps, validation_batch_size, validation_freq, max_queue_size, workers, use_multiprocessing)\u001b[0m\n\u001b[0;32m   1206\u001b[0m         \u001b[0mcallbacks\u001b[0m\u001b[1;33m.\u001b[0m\u001b[0mon_epoch_begin\u001b[0m\u001b[1;33m(\u001b[0m\u001b[0mepoch\u001b[0m\u001b[1;33m)\u001b[0m\u001b[1;33m\u001b[0m\u001b[1;33m\u001b[0m\u001b[0m\n\u001b[0;32m   1207\u001b[0m         \u001b[1;32mwith\u001b[0m \u001b[0mdata_handler\u001b[0m\u001b[1;33m.\u001b[0m\u001b[0mcatch_stop_iteration\u001b[0m\u001b[1;33m(\u001b[0m\u001b[1;33m)\u001b[0m\u001b[1;33m:\u001b[0m\u001b[1;33m\u001b[0m\u001b[1;33m\u001b[0m\u001b[0m\n\u001b[1;32m-> 1208\u001b[1;33m           \u001b[1;32mfor\u001b[0m \u001b[0mstep\u001b[0m \u001b[1;32min\u001b[0m \u001b[0mdata_handler\u001b[0m\u001b[1;33m.\u001b[0m\u001b[0msteps\u001b[0m\u001b[1;33m(\u001b[0m\u001b[1;33m)\u001b[0m\u001b[1;33m:\u001b[0m\u001b[1;33m\u001b[0m\u001b[1;33m\u001b[0m\u001b[0m\n\u001b[0m\u001b[0;32m   1209\u001b[0m             with tf.profiler.experimental.Trace(\n\u001b[0;32m   1210\u001b[0m                 \u001b[1;34m'train'\u001b[0m\u001b[1;33m,\u001b[0m\u001b[1;33m\u001b[0m\u001b[1;33m\u001b[0m\u001b[0m\n",
      "\u001b[1;32m~\\anaconda3\\lib\\site-packages\\keras\\engine\\data_adapter.py\u001b[0m in \u001b[0;36msteps\u001b[1;34m(self)\u001b[0m\n\u001b[0;32m   1248\u001b[0m       \u001b[1;32mif\u001b[0m \u001b[0mself\u001b[0m\u001b[1;33m.\u001b[0m\u001b[0m_insufficient_data\u001b[0m\u001b[1;33m:\u001b[0m  \u001b[1;31m# Set by `catch_stop_iteration`.\u001b[0m\u001b[1;33m\u001b[0m\u001b[1;33m\u001b[0m\u001b[0m\n\u001b[0;32m   1249\u001b[0m         \u001b[1;32mbreak\u001b[0m\u001b[1;33m\u001b[0m\u001b[1;33m\u001b[0m\u001b[0m\n\u001b[1;32m-> 1250\u001b[1;33m       \u001b[0moriginal_spe\u001b[0m \u001b[1;33m=\u001b[0m \u001b[0mself\u001b[0m\u001b[1;33m.\u001b[0m\u001b[0m_steps_per_execution\u001b[0m\u001b[1;33m.\u001b[0m\u001b[0mnumpy\u001b[0m\u001b[1;33m(\u001b[0m\u001b[1;33m)\u001b[0m\u001b[1;33m.\u001b[0m\u001b[0mitem\u001b[0m\u001b[1;33m(\u001b[0m\u001b[1;33m)\u001b[0m\u001b[1;33m\u001b[0m\u001b[1;33m\u001b[0m\u001b[0m\n\u001b[0m\u001b[0;32m   1251\u001b[0m       can_run_full_execution = (\n\u001b[0;32m   1252\u001b[0m           \u001b[0moriginal_spe\u001b[0m \u001b[1;33m==\u001b[0m \u001b[1;36m1\u001b[0m \u001b[1;32mor\u001b[0m\u001b[1;33m\u001b[0m\u001b[1;33m\u001b[0m\u001b[0m\n",
      "\u001b[1;32m~\\anaconda3\\lib\\site-packages\\tensorflow\\python\\ops\\resource_variable_ops.py\u001b[0m in \u001b[0;36mnumpy\u001b[1;34m(self)\u001b[0m\n\u001b[0;32m    643\u001b[0m   \u001b[1;32mdef\u001b[0m \u001b[0mnumpy\u001b[0m\u001b[1;33m(\u001b[0m\u001b[0mself\u001b[0m\u001b[1;33m)\u001b[0m\u001b[1;33m:\u001b[0m\u001b[1;33m\u001b[0m\u001b[1;33m\u001b[0m\u001b[0m\n\u001b[0;32m    644\u001b[0m     \u001b[1;32mif\u001b[0m \u001b[0mcontext\u001b[0m\u001b[1;33m.\u001b[0m\u001b[0mexecuting_eagerly\u001b[0m\u001b[1;33m(\u001b[0m\u001b[1;33m)\u001b[0m\u001b[1;33m:\u001b[0m\u001b[1;33m\u001b[0m\u001b[1;33m\u001b[0m\u001b[0m\n\u001b[1;32m--> 645\u001b[1;33m       \u001b[1;32mreturn\u001b[0m \u001b[0mself\u001b[0m\u001b[1;33m.\u001b[0m\u001b[0mread_value\u001b[0m\u001b[1;33m(\u001b[0m\u001b[1;33m)\u001b[0m\u001b[1;33m.\u001b[0m\u001b[0mnumpy\u001b[0m\u001b[1;33m(\u001b[0m\u001b[1;33m)\u001b[0m\u001b[1;33m\u001b[0m\u001b[1;33m\u001b[0m\u001b[0m\n\u001b[0m\u001b[0;32m    646\u001b[0m     raise NotImplementedError(\n\u001b[0;32m    647\u001b[0m         \"numpy() is only available when eager execution is enabled.\")\n",
      "\u001b[1;32m~\\anaconda3\\lib\\site-packages\\tensorflow\\python\\ops\\resource_variable_ops.py\u001b[0m in \u001b[0;36mread_value\u001b[1;34m(self)\u001b[0m\n\u001b[0;32m    721\u001b[0m     \u001b[1;31m# Return an identity so it can get placed on whatever device the context\u001b[0m\u001b[1;33m\u001b[0m\u001b[1;33m\u001b[0m\u001b[1;33m\u001b[0m\u001b[0m\n\u001b[0;32m    722\u001b[0m     \u001b[1;31m# specifies instead of the device where the variable is.\u001b[0m\u001b[1;33m\u001b[0m\u001b[1;33m\u001b[0m\u001b[1;33m\u001b[0m\u001b[0m\n\u001b[1;32m--> 723\u001b[1;33m     \u001b[1;32mreturn\u001b[0m \u001b[0marray_ops\u001b[0m\u001b[1;33m.\u001b[0m\u001b[0midentity\u001b[0m\u001b[1;33m(\u001b[0m\u001b[0mvalue\u001b[0m\u001b[1;33m)\u001b[0m\u001b[1;33m\u001b[0m\u001b[1;33m\u001b[0m\u001b[0m\n\u001b[0m\u001b[0;32m    724\u001b[0m \u001b[1;33m\u001b[0m\u001b[0m\n\u001b[0;32m    725\u001b[0m   \u001b[1;32mdef\u001b[0m \u001b[0msparse_read\u001b[0m\u001b[1;33m(\u001b[0m\u001b[0mself\u001b[0m\u001b[1;33m,\u001b[0m \u001b[0mindices\u001b[0m\u001b[1;33m,\u001b[0m \u001b[0mname\u001b[0m\u001b[1;33m=\u001b[0m\u001b[1;32mNone\u001b[0m\u001b[1;33m)\u001b[0m\u001b[1;33m:\u001b[0m\u001b[1;33m\u001b[0m\u001b[1;33m\u001b[0m\u001b[0m\n",
      "\u001b[1;32m~\\anaconda3\\lib\\site-packages\\tensorflow\\python\\util\\traceback_utils.py\u001b[0m in \u001b[0;36merror_handler\u001b[1;34m(*args, **kwargs)\u001b[0m\n\u001b[0;32m    148\u001b[0m     \u001b[0mfiltered_tb\u001b[0m \u001b[1;33m=\u001b[0m \u001b[1;32mNone\u001b[0m\u001b[1;33m\u001b[0m\u001b[1;33m\u001b[0m\u001b[0m\n\u001b[0;32m    149\u001b[0m     \u001b[1;32mtry\u001b[0m\u001b[1;33m:\u001b[0m\u001b[1;33m\u001b[0m\u001b[1;33m\u001b[0m\u001b[0m\n\u001b[1;32m--> 150\u001b[1;33m       \u001b[1;32mreturn\u001b[0m \u001b[0mfn\u001b[0m\u001b[1;33m(\u001b[0m\u001b[1;33m*\u001b[0m\u001b[0margs\u001b[0m\u001b[1;33m,\u001b[0m \u001b[1;33m**\u001b[0m\u001b[0mkwargs\u001b[0m\u001b[1;33m)\u001b[0m\u001b[1;33m\u001b[0m\u001b[1;33m\u001b[0m\u001b[0m\n\u001b[0m\u001b[0;32m    151\u001b[0m     \u001b[1;32mexcept\u001b[0m \u001b[0mException\u001b[0m \u001b[1;32mas\u001b[0m \u001b[0me\u001b[0m\u001b[1;33m:\u001b[0m\u001b[1;33m\u001b[0m\u001b[1;33m\u001b[0m\u001b[0m\n\u001b[0;32m    152\u001b[0m       \u001b[0mfiltered_tb\u001b[0m \u001b[1;33m=\u001b[0m \u001b[0m_process_traceback_frames\u001b[0m\u001b[1;33m(\u001b[0m\u001b[0me\u001b[0m\u001b[1;33m.\u001b[0m\u001b[0m__traceback__\u001b[0m\u001b[1;33m)\u001b[0m\u001b[1;33m\u001b[0m\u001b[1;33m\u001b[0m\u001b[0m\n",
      "\u001b[1;32m~\\anaconda3\\lib\\site-packages\\tensorflow\\python\\util\\dispatch.py\u001b[0m in \u001b[0;36mop_dispatch_handler\u001b[1;34m(*args, **kwargs)\u001b[0m\n\u001b[0;32m   1094\u001b[0m       \u001b[1;31m# Fallback dispatch system (dispatch v1):\u001b[0m\u001b[1;33m\u001b[0m\u001b[1;33m\u001b[0m\u001b[1;33m\u001b[0m\u001b[0m\n\u001b[0;32m   1095\u001b[0m       \u001b[1;32mtry\u001b[0m\u001b[1;33m:\u001b[0m\u001b[1;33m\u001b[0m\u001b[1;33m\u001b[0m\u001b[0m\n\u001b[1;32m-> 1096\u001b[1;33m         \u001b[1;32mreturn\u001b[0m \u001b[0mdispatch_target\u001b[0m\u001b[1;33m(\u001b[0m\u001b[1;33m*\u001b[0m\u001b[0margs\u001b[0m\u001b[1;33m,\u001b[0m \u001b[1;33m**\u001b[0m\u001b[0mkwargs\u001b[0m\u001b[1;33m)\u001b[0m\u001b[1;33m\u001b[0m\u001b[1;33m\u001b[0m\u001b[0m\n\u001b[0m\u001b[0;32m   1097\u001b[0m       \u001b[1;32mexcept\u001b[0m \u001b[1;33m(\u001b[0m\u001b[0mTypeError\u001b[0m\u001b[1;33m,\u001b[0m \u001b[0mValueError\u001b[0m\u001b[1;33m)\u001b[0m\u001b[1;33m:\u001b[0m\u001b[1;33m\u001b[0m\u001b[1;33m\u001b[0m\u001b[0m\n\u001b[0;32m   1098\u001b[0m         \u001b[1;31m# Note: convert_to_eager_tensor currently raises a ValueError, not a\u001b[0m\u001b[1;33m\u001b[0m\u001b[1;33m\u001b[0m\u001b[1;33m\u001b[0m\u001b[0m\n",
      "\u001b[1;32m~\\anaconda3\\lib\\site-packages\\tensorflow\\python\\ops\\array_ops.py\u001b[0m in \u001b[0;36midentity\u001b[1;34m(input, name)\u001b[0m\n\u001b[0;32m    288\u001b[0m     \u001b[1;31m# variables. Variables have correct handle data when graph building.\u001b[0m\u001b[1;33m\u001b[0m\u001b[1;33m\u001b[0m\u001b[1;33m\u001b[0m\u001b[0m\n\u001b[0;32m    289\u001b[0m     \u001b[0minput\u001b[0m \u001b[1;33m=\u001b[0m \u001b[0mops\u001b[0m\u001b[1;33m.\u001b[0m\u001b[0mconvert_to_tensor\u001b[0m\u001b[1;33m(\u001b[0m\u001b[0minput\u001b[0m\u001b[1;33m)\u001b[0m\u001b[1;33m\u001b[0m\u001b[1;33m\u001b[0m\u001b[0m\n\u001b[1;32m--> 290\u001b[1;33m   \u001b[0mret\u001b[0m \u001b[1;33m=\u001b[0m \u001b[0mgen_array_ops\u001b[0m\u001b[1;33m.\u001b[0m\u001b[0midentity\u001b[0m\u001b[1;33m(\u001b[0m\u001b[0minput\u001b[0m\u001b[1;33m,\u001b[0m \u001b[0mname\u001b[0m\u001b[1;33m=\u001b[0m\u001b[0mname\u001b[0m\u001b[1;33m)\u001b[0m\u001b[1;33m\u001b[0m\u001b[1;33m\u001b[0m\u001b[0m\n\u001b[0m\u001b[0;32m    291\u001b[0m   \u001b[1;31m# Propagate handle data for happier shape inference for resource variables.\u001b[0m\u001b[1;33m\u001b[0m\u001b[1;33m\u001b[0m\u001b[1;33m\u001b[0m\u001b[0m\n\u001b[0;32m    292\u001b[0m   \u001b[1;32mif\u001b[0m \u001b[0mhasattr\u001b[0m\u001b[1;33m(\u001b[0m\u001b[0minput\u001b[0m\u001b[1;33m,\u001b[0m \u001b[1;34m\"_handle_data\"\u001b[0m\u001b[1;33m)\u001b[0m\u001b[1;33m:\u001b[0m\u001b[1;33m\u001b[0m\u001b[1;33m\u001b[0m\u001b[0m\n",
      "\u001b[1;32m~\\anaconda3\\lib\\site-packages\\tensorflow\\python\\ops\\gen_array_ops.py\u001b[0m in \u001b[0;36midentity\u001b[1;34m(input, name)\u001b[0m\n\u001b[0;32m   4061\u001b[0m   \u001b[1;32mif\u001b[0m \u001b[0mtld\u001b[0m\u001b[1;33m.\u001b[0m\u001b[0mis_eager\u001b[0m\u001b[1;33m:\u001b[0m\u001b[1;33m\u001b[0m\u001b[1;33m\u001b[0m\u001b[0m\n\u001b[0;32m   4062\u001b[0m     \u001b[1;32mtry\u001b[0m\u001b[1;33m:\u001b[0m\u001b[1;33m\u001b[0m\u001b[1;33m\u001b[0m\u001b[0m\n\u001b[1;32m-> 4063\u001b[1;33m       _result = pywrap_tfe.TFE_Py_FastPathExecute(\n\u001b[0m\u001b[0;32m   4064\u001b[0m         _ctx, \"Identity\", name, input)\n\u001b[0;32m   4065\u001b[0m       \u001b[1;32mreturn\u001b[0m \u001b[0m_result\u001b[0m\u001b[1;33m\u001b[0m\u001b[1;33m\u001b[0m\u001b[0m\n",
      "\u001b[1;31mKeyboardInterrupt\u001b[0m: "
     ]
    }
   ],
   "source": [
    "model.fit(X_train,np.array(y_train),epochs =100 )"
   ]
  },
  {
   "cell_type": "code",
   "execution_count": 17,
   "metadata": {},
   "outputs": [],
   "source": [
    "y_pred=model.predict(X_test)"
   ]
  },
  {
   "cell_type": "code",
   "execution_count": 18,
   "metadata": {},
   "outputs": [
    {
     "name": "stdout",
     "output_type": "stream",
     "text": [
      "Accuracy: 0.8651\n"
     ]
    }
   ],
   "source": [
    "print(\"Accuracy: {:<0.4f}\".format(accuracy_score(y_test,y_pred.round())))"
   ]
  },
  {
   "cell_type": "code",
   "execution_count": 19,
   "metadata": {},
   "outputs": [],
   "source": [
    "from sklearn.metrics import (confusion_matrix, accuracy_score, classification_report)\n",
    "def plot_confusion_matrix(y_test, pred, model_name):\n",
    "    cm = confusion_matrix(y_test, pred)\n",
    "    cm_df = pd.DataFrame(cm,index = [\"VPN\", \"NOT VPN\"], columns = [\"VPN\",\"NOT VPN\"])\n",
    "    plt.figure(figsize=(5,5))\n",
    "    sns.heatmap(cm_df, annot = True, fmt='g', annot_kws={\"size\": 10})\n",
    "    plt.title(model_name+'\\nAccuracy:{0:.4f}'.format(accuracy_score(y_test,pred)))\n",
    "    plt.ylabel('True Label', fontsize=1)\n",
    "    plt.show()"
   ]
  },
  {
   "cell_type": "code",
   "execution_count": 20,
   "metadata": {},
   "outputs": [
    {
     "data": {
      "image/png": "[encoded data removed]",
      "text/plain": [
       "<Figure size 360x360 with 2 Axes>"
      ]
     },
     "metadata": {
      "needs_background": "light"
     },
     "output_type": "display_data"
    }
   ],
   "source": [
    "plot_confusion_matrix(y_test, y_pred.round(), \"VPN Analiz\")"
   ]
  },
  {
   "cell_type": "code",
   "execution_count": 21,
   "metadata": {},
   "outputs": [
    {
     "name": "stderr",
     "output_type": "stream",
     "text": [
      "[Parallel(n_jobs=1)]: Using backend SequentialBackend with 1 concurrent workers.\n",
      "[Parallel(n_jobs=1)]: Done 500 out of 500 | elapsed:    8.5s finished\n",
      "[Parallel(n_jobs=1)]: Using backend SequentialBackend with 1 concurrent workers.\n",
      "[Parallel(n_jobs=1)]: Done 500 out of 500 | elapsed:    0.1s finished\n"
     ]
    },
    {
     "name": "stdout",
     "output_type": "stream",
     "text": [
      "[0.0489163  0.06299861 0.1173156  0.04590017 0.03479003 0.06239902\n",
      " 0.0674771  0.03725958 0.04281186 0.07102307 0.07363042 0.07824337\n",
      " 0.0748964  0.0589801  0.05917141 0.00835222 0.00851719 0.00847846\n",
      " 0.00242522 0.0115265  0.01113968 0.01094367 0.00280399]\n"
     ]
    }
   ],
   "source": [
    "clf = RandomForestClassifier(n_estimators=500, max_depth=10,random_state=0,verbose=1)\n",
    "clf.fit(X_train,y_train)\n",
    "rf_preds = clf.predict(X_test)\n",
    "print(clf.feature_importances_)"
   ]
  },
  {
   "cell_type": "code",
   "execution_count": 22,
   "metadata": {},
   "outputs": [
    {
     "name": "stdout",
     "output_type": "stream",
     "text": [
      "Accuracy: 0.8905\n"
     ]
    }
   ],
   "source": [
    "print(\"Accuracy: {:<0.4f}\".format(accuracy_score(y_test,rf_preds.round())))"
   ]
  },
  {
   "cell_type": "code",
   "execution_count": 23,
   "metadata": {},
   "outputs": [
    {
     "data": {
      "image/png": "[encoded data removed]",
      "text/plain": [
       "<Figure size 360x360 with 2 Axes>"
      ]
     },
     "metadata": {
      "needs_background": "light"
     },
     "output_type": "display_data"
    }
   ],
   "source": [
    "plot_confusion_matrix(y_test,rf_preds.round(), \"VPN Analiz\")"
   ]
  },
  {
   "cell_type": "code",
   "execution_count": 24,
   "metadata": {},
   "outputs": [
    {
     "name": "stdout",
     "output_type": "stream",
     "text": [
      "              precision    recall  f1-score   support\n",
      "\n",
      "           0       0.93      0.83      0.88      1767\n",
      "           1       0.86      0.94      0.90      1985\n",
      "\n",
      "    accuracy                           0.89      3752\n",
      "   macro avg       0.90      0.89      0.89      3752\n",
      "weighted avg       0.89      0.89      0.89      3752\n",
      "\n"
     ]
    }
   ],
   "source": [
    "print(classification_report(y_test,rf_preds.round()))"
   ]
  },
  {
   "cell_type": "code",
   "execution_count": 25,
   "metadata": {},
   "outputs": [
    {
     "data": {
      "text/html": [
       "<div>\n",
       "<style scoped>\n",
       "    .dataframe tbody tr th:only-of-type {\n",
       "        vertical-align: middle;\n",
       "    }\n",
       "\n",
       "    .dataframe tbody tr th {\n",
       "        vertical-align: top;\n",
       "    }\n",
       "\n",
       "    .dataframe thead th {\n",
       "        text-align: right;\n",
       "    }\n",
       "</style>\n",
       "<table border=\"1\" class=\"dataframe\">\n",
       "  <thead>\n",
       "    <tr style=\"text-align: right;\">\n",
       "      <th></th>\n",
       "      <th>Features</th>\n",
       "      <th>Importance</th>\n",
       "    </tr>\n",
       "  </thead>\n",
       "  <tbody>\n",
       "    <tr>\n",
       "      <th>0</th>\n",
       "      <td>duration</td>\n",
       "      <td>0.048916</td>\n",
       "    </tr>\n",
       "    <tr>\n",
       "      <th>1</th>\n",
       "      <td>total_fiat</td>\n",
       "      <td>0.062999</td>\n",
       "    </tr>\n",
       "    <tr>\n",
       "      <th>2</th>\n",
       "      <td>total_biat</td>\n",
       "      <td>0.117316</td>\n",
       "    </tr>\n",
       "    <tr>\n",
       "      <th>3</th>\n",
       "      <td>min_fiat</td>\n",
       "      <td>0.045900</td>\n",
       "    </tr>\n",
       "    <tr>\n",
       "      <th>4</th>\n",
       "      <td>min_biat</td>\n",
       "      <td>0.034790</td>\n",
       "    </tr>\n",
       "    <tr>\n",
       "      <th>5</th>\n",
       "      <td>max_fiat</td>\n",
       "      <td>0.062399</td>\n",
       "    </tr>\n",
       "    <tr>\n",
       "      <th>6</th>\n",
       "      <td>max_biat</td>\n",
       "      <td>0.067477</td>\n",
       "    </tr>\n",
       "    <tr>\n",
       "      <th>7</th>\n",
       "      <td>mean_fiat</td>\n",
       "      <td>0.037260</td>\n",
       "    </tr>\n",
       "    <tr>\n",
       "      <th>8</th>\n",
       "      <td>mean_biat</td>\n",
       "      <td>0.042812</td>\n",
       "    </tr>\n",
       "    <tr>\n",
       "      <th>9</th>\n",
       "      <td>flowPktsPerSecond</td>\n",
       "      <td>0.071023</td>\n",
       "    </tr>\n",
       "    <tr>\n",
       "      <th>10</th>\n",
       "      <td>flowBytesPerSecond</td>\n",
       "      <td>0.073630</td>\n",
       "    </tr>\n",
       "    <tr>\n",
       "      <th>11</th>\n",
       "      <td>min_flowiat</td>\n",
       "      <td>0.078243</td>\n",
       "    </tr>\n",
       "    <tr>\n",
       "      <th>12</th>\n",
       "      <td>max_flowiat</td>\n",
       "      <td>0.074896</td>\n",
       "    </tr>\n",
       "    <tr>\n",
       "      <th>13</th>\n",
       "      <td>mean_flowiat</td>\n",
       "      <td>0.058980</td>\n",
       "    </tr>\n",
       "    <tr>\n",
       "      <th>14</th>\n",
       "      <td>std_flowiat</td>\n",
       "      <td>0.059171</td>\n",
       "    </tr>\n",
       "    <tr>\n",
       "      <th>15</th>\n",
       "      <td>min_active</td>\n",
       "      <td>0.008352</td>\n",
       "    </tr>\n",
       "    <tr>\n",
       "      <th>16</th>\n",
       "      <td>mean_active</td>\n",
       "      <td>0.008517</td>\n",
       "    </tr>\n",
       "    <tr>\n",
       "      <th>17</th>\n",
       "      <td>max_active</td>\n",
       "      <td>0.008478</td>\n",
       "    </tr>\n",
       "    <tr>\n",
       "      <th>18</th>\n",
       "      <td>std_active</td>\n",
       "      <td>0.002425</td>\n",
       "    </tr>\n",
       "    <tr>\n",
       "      <th>19</th>\n",
       "      <td>min_idle</td>\n",
       "      <td>0.011527</td>\n",
       "    </tr>\n",
       "    <tr>\n",
       "      <th>20</th>\n",
       "      <td>mean_idle</td>\n",
       "      <td>0.011140</td>\n",
       "    </tr>\n",
       "    <tr>\n",
       "      <th>21</th>\n",
       "      <td>max_idle</td>\n",
       "      <td>0.010944</td>\n",
       "    </tr>\n",
       "    <tr>\n",
       "      <th>22</th>\n",
       "      <td>std_idle</td>\n",
       "      <td>0.002804</td>\n",
       "    </tr>\n",
       "  </tbody>\n",
       "</table>\n",
       "</div>"
      ],
      "text/plain": [
       "              Features  Importance\n",
       "0             duration    0.048916\n",
       "1           total_fiat    0.062999\n",
       "2           total_biat    0.117316\n",
       "3             min_fiat    0.045900\n",
       "4             min_biat    0.034790\n",
       "5             max_fiat    0.062399\n",
       "6             max_biat    0.067477\n",
       "7            mean_fiat    0.037260\n",
       "8            mean_biat    0.042812\n",
       "9    flowPktsPerSecond    0.071023\n",
       "10  flowBytesPerSecond    0.073630\n",
       "11         min_flowiat    0.078243\n",
       "12         max_flowiat    0.074896\n",
       "13        mean_flowiat    0.058980\n",
       "14         std_flowiat    0.059171\n",
       "15          min_active    0.008352\n",
       "16         mean_active    0.008517\n",
       "17          max_active    0.008478\n",
       "18          std_active    0.002425\n",
       "19            min_idle    0.011527\n",
       "20           mean_idle    0.011140\n",
       "21            max_idle    0.010944\n",
       "22            std_idle    0.002804"
      ]
     },
     "execution_count": 25,
     "metadata": {},
     "output_type": "execute_result"
    }
   ],
   "source": [
    "feature_importance_df = pd.DataFrame()\n",
    "feature_importance_df[\"Features\"] = df.drop(columns = [\"class1\"]).columns\n",
    "feature_importance_df[\"Importance\"] = clf.feature_importances_\n",
    "feature_importance_df"
   ]
  },
  {
   "cell_type": "code",
   "execution_count": 28,
   "metadata": {},
   "outputs": [
    {
     "data": {
      "image/png": "[encoded data removed]",
      "text/plain": [
       "<Figure size 720x720 with 1 Axes>"
      ]
     },
     "metadata": {
      "needs_background": "light"
     },
     "output_type": "display_data"
    }
   ],
   "source": [
    "plt.figure(figsize=(10,10))\n",
    "sns.barplot(x=\"Importance\", y=\"Features\", data=feature_importance_df.sort_values(by=\"Importance\",ascending=False))\n",
    "plt.title(\"Feature's Importance\")\n",
    "plt.tight_layout()"
   ]
  },
  {
   "cell_type": "code",
   "execution_count": null,
   "metadata": {},
   "outputs": [],
   "source": []
  }
 ],
 "metadata": {
  "kernelspec": {
   "display_name": "Python 3",
   "language": "python",
   "name": "python3"
  },
  "language_info": {
   "codemirror_mode": {
    "name": "ipython",
    "version": 3
   },
   "file_extension": ".py",
   "mimetype": "text/x-python",
   "name": "python",
   "nbconvert_exporter": "python",
   "pygments_lexer": "ipython3",
   "version": "3.8.3"
  }
 },
 "nbformat": 4,
 "nbformat_minor": 4
}
